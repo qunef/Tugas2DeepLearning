{
 "cells": [
  {
   "cell_type": "markdown",
   "id": "bf84419a-8726-4788-9928-c031a22e92e3",
   "metadata": {},
   "source": [
    "# Membangun Chatbot Question-Answering dengan RNN dan LSTM\n",
    "Proyek ini bertujuan untuk membangun model Question-Answering (QA) sederhana menggunakan arsitektur Encoder-Decoder. Model akan dilatih pada dataset SQuAD versi Indonesia untuk dapat menjawab pertanyaan berdasarkan konteks (paragraf) yang diberikan. Dua arsitektur dicoba dalam eksperimen ini: SimpleRNN dan LSTM."
   ]
  },
  {
   "cell_type": "markdown",
   "id": "6f040237-aa2e-4459-823c-d215d04fddba",
   "metadata": {},
   "source": [
    "## Import library awal"
   ]
  },
  {
   "cell_type": "code",
   "execution_count": 6,
   "id": "2e151fae-2bc7-4179-97a1-6d90c87622d8",
   "metadata": {},
   "outputs": [],
   "source": [
    "import pandas as pd\n",
    "import json"
   ]
  },
  {
   "cell_type": "markdown",
   "id": "c650395d-5b0d-4d9c-9652-2426caa9d544",
   "metadata": {},
   "source": [
    "## Load dataset dan EDA"
   ]
  },
  {
   "cell_type": "code",
   "execution_count": 7,
   "id": "d2896855-b736-47f5-af1f-7e6e58a86ca0",
   "metadata": {},
   "outputs": [],
   "source": [
    "# Ganti dengan path file Anda\n",
    "file_path = 'train-SQuAD-id.json' \n",
    "\n",
    "# Membuka dan memuat data dari file JSON\n",
    "with open(file_path, 'r', encoding='utf-8') as f:\n",
    "    squad_data = json.load(f)"
   ]
  },
  {
   "cell_type": "code",
   "execution_count": 8,
   "id": "d686dd1c-65a3-4a87-8eee-46c179fc8e05",
   "metadata": {},
   "outputs": [],
   "source": [
    "# List untuk menampung data yang sudah diekstrak\n",
    "processed_data = []"
   ]
  },
  {
   "cell_type": "code",
   "execution_count": 9,
   "id": "3cba635a-d22d-4c05-9034-dc040c5ec1f5",
   "metadata": {},
   "outputs": [
    {
     "name": "stdout",
     "output_type": "stream",
     "text": [
      "Memproses file JSON...\n"
     ]
    }
   ],
   "source": [
    "# Looping melalui struktur JSON yang kompleks\n",
    "print(\"Memproses file JSON...\")\n",
    "for group in squad_data['data']:\n",
    "    for paragraph in group['paragraphs']:\n",
    "        konteks = paragraph['context']\n",
    "        for qa in paragraph['qas']:\n",
    "            pertanyaan = qa['question']\n",
    "            \n",
    "            # Hanya mengambil data yang bisa dijawab (bukan is_impossible)\n",
    "            if not qa['is_impossible']:\n",
    "                # Ambil jawaban pertama (karena bisa ada beberapa)\n",
    "                if len(qa['answers']) > 0:\n",
    "                    jawaban = qa['answers'][0]['text']\n",
    "                    processed_data.append({\n",
    "                        'konteks': konteks,\n",
    "                        'pertanyaan': pertanyaan,\n",
    "                        'jawaban': jawaban\n",
    "                    })"
   ]
  },
  {
   "cell_type": "code",
   "execution_count": 10,
   "id": "ed9852e0-bb14-43f4-8e6f-e255fdba3f53",
   "metadata": {},
   "outputs": [
    {
     "name": "stdout",
     "output_type": "stream",
     "text": [
      "✅ Proses selesai!\n"
     ]
    }
   ],
   "source": [
    "# Mengubah list menjadi DataFrame Pandas\n",
    "df_squad = pd.DataFrame(processed_data)\n",
    "print(\"✅ Proses selesai!\")"
   ]
  },
  {
   "cell_type": "markdown",
   "id": "e6d2afae-bfa2-4841-b970-24388202aa01",
   "metadata": {},
   "source": [
    "## Import libary lanjutan untuk pre-processing dan model"
   ]
  },
  {
   "cell_type": "code",
   "execution_count": 11,
   "id": "c396ccb2-8188-4bf4-85c5-943efb0cd34a",
   "metadata": {},
   "outputs": [],
   "source": [
    "import numpy as np\n",
    "import tensorflow as tf\n",
    "from tensorflow.keras.preprocessing.text import Tokenizer\n",
    "from tensorflow.keras.preprocessing.sequence import pad_sequences\n",
    "from tensorflow.keras.models import Model\n",
    "from tensorflow.keras.layers import Input, Embedding, SimpleRNN, Dense, Concatenate\n",
    "from sklearn.model_selection import train_test_split"
   ]
  },
  {
   "cell_type": "code",
   "execution_count": 12,
   "id": "690cb554-1e65-4705-bbdb-38fdaf405000",
   "metadata": {},
   "outputs": [
    {
     "name": "stdout",
     "output_type": "stream",
     "text": [
      "Jumlah data: 76444\n",
      "\n",
      "Cek data kosong:\n",
      " konteks       0\n",
      "pertanyaan    0\n",
      "jawaban       0\n",
      "dtype: int64\n",
      "\n",
      "Contoh data:\n",
      "                                                  konteks  \\\n",
      "65476  Sebagai perbandingan, Data Sensus Redistrictin...   \n",
      "18359  Daerah yang lebih rendah dan kota-kota yang le...   \n",
      "16922  Salah satu pihak dapat mengklaim bahwa perjanj...   \n",
      "\n",
      "                                              pertanyaan         jawaban  \n",
      "65476                   Berapa persen orang kulit hitam?         (43,4%)  \n",
      "18359  Apa yang bisa berbahaya bahkan di musim panas ...     gunung yang  \n",
      "16922  Untuk dianggap sebagai perubahan mendasar, per...  tidak terduga,  \n",
      "\n",
      "Panjang rata-rata teks:\n",
      "len_konteks       107.391228\n",
      "len_pertanyaan      8.842996\n",
      "len_jawaban         2.903210\n",
      "dtype: float64\n"
     ]
    },
    {
     "data": {
      "image/png": "[encoded data removed]",
      "text/plain": [
       "<Figure size 640x480 with 1 Axes>"
      ]
     },
     "metadata": {},
     "output_type": "display_data"
    },
    {
     "name": "stdout",
     "output_type": "stream",
     "text": [
      "\n",
      "Kata paling sering: [('yang', 44634), ('Apa', 16744), ('apa', 14365), ('di', 14314), ('untuk', 8407), ('dari', 7454), ('Berapa', 6907), ('tahun', 6608), ('pada', 6458), ('dan', 6436)]\n"
     ]
    }
   ],
   "source": [
    "print(\"Jumlah data:\", len(df_squad))\n",
    "print(\"\\nCek data kosong:\\n\", df_squad.isnull().sum())\n",
    "print(\"\\nContoh data:\\n\", df_squad.sample(3))\n",
    "\n",
    "# Panjang rata-rata pertanyaan, konteks, jawaban\n",
    "df_squad[\"len_pertanyaan\"] = df_squad[\"pertanyaan\"].apply(lambda x: len(x.split()))\n",
    "df_squad[\"len_konteks\"] = df_squad[\"konteks\"].apply(lambda x: len(x.split()))\n",
    "df_squad[\"len_jawaban\"] = df_squad[\"jawaban\"].apply(lambda x: len(x.split()))\n",
    "\n",
    "print(\"\\nPanjang rata-rata teks:\")\n",
    "print(df_squad[[\"len_konteks\", \"len_pertanyaan\", \"len_jawaban\"]].mean())\n",
    "\n",
    "# Distribusi panjang pertanyaan\n",
    "import matplotlib.pyplot as plt\n",
    "plt.hist(df_squad[\"len_pertanyaan\"], bins=50, color='skyblue')\n",
    "plt.title(\"Distribusi Panjang Pertanyaan\")\n",
    "plt.xlabel(\"Jumlah Kata\")\n",
    "plt.ylabel(\"Frekuensi\")\n",
    "plt.show()\n",
    "\n",
    "# 10 kata yang paling sering muncul di pertanyaan\n",
    "from collections import Counter\n",
    "all_words = \" \".join(df_squad[\"pertanyaan\"]).split()\n",
    "common = Counter(all_words).most_common(10)\n",
    "print(\"\\nKata paling sering:\", common)"
   ]
  },
  {
   "cell_type": "markdown",
   "id": "2eca43e8-2844-446e-b33c-8a531b3bdde5",
   "metadata": {},
   "source": [
    "## Pre-processing data"
   ]
  },
  {
   "cell_type": "code",
   "execution_count": 13,
   "id": "761e2d3b-efc4-4ad6-bf34-2696c307ab49",
   "metadata": {},
   "outputs": [],
   "source": [
    "# Ambil sample data (gunakan df_squad yang sudah ada)\n",
    "df_sample = df_squad.head(5000).copy()  # Ambil 5000 data untuk training\n",
    "\n",
    "# Pisahkan data\n",
    "contexts = df_sample['konteks'].tolist()\n",
    "questions = df_sample['pertanyaan'].tolist()\n",
    "answers = df_sample['jawaban'].tolist()"
   ]
  },
  {
   "cell_type": "code",
   "execution_count": 14,
   "id": "fa316d5f-493f-4f14-9f33-2e468a9614bc",
   "metadata": {},
   "outputs": [
    {
     "name": "stdout",
     "output_type": "stream",
     "text": [
      "Ukuran vocabulary: 11929\n"
     ]
    }
   ],
   "source": [
    "# Buat tokenizer untuk semua teks\n",
    "all_texts = contexts + questions + answers\n",
    "\n",
    "tokenizer = Tokenizer(num_words=20000, oov_token='<OOV>', lower=True)\n",
    "tokenizer.fit_on_texts(all_texts)\n",
    "\n",
    "vocab_size = len(tokenizer.word_index) + 1\n",
    "print(f\"Ukuran vocabulary: {vocab_size}\")"
   ]
  },
  {
   "cell_type": "code",
   "execution_count": 15,
   "id": "990ad25f-656a-4eba-982f-3be76587c677",
   "metadata": {},
   "outputs": [
    {
     "name": "stdout",
     "output_type": "stream",
     "text": [
      "✅ Tokenisasi dan padding selesai\n",
      "Shape context: (5000, 150)\n",
      "Shape question: (5000, 30)\n",
      "Shape answer: (5000, 150)\n"
     ]
    }
   ],
   "source": [
    "# Convert ke sequences\n",
    "context_seq = tokenizer.texts_to_sequences(contexts)\n",
    "question_seq = tokenizer.texts_to_sequences(questions)\n",
    "answer_seq = tokenizer.texts_to_sequences(answers)\n",
    "\n",
    "# Tentukan max length\n",
    "max_context_len = 150\n",
    "max_question_len = 30\n",
    "max_answer_len = 20\n",
    "\n",
    "# Padding sequences\n",
    "context_padded = pad_sequences(context_seq, maxlen=max_context_len, padding='post', truncating='post')\n",
    "question_padded = pad_sequences(question_seq, maxlen=max_question_len, padding='post', truncating='post')\n",
    "answer_padded = pad_sequences(answer_seq, maxlen=max_answer_len, padding='post', truncating='post')\n",
    "\n",
    "print(\"✅ Tokenisasi dan padding selesai\")\n",
    "print(f\"Shape context: {context_padded.shape}\")\n",
    "print(f\"Shape question: {question_padded.shape}\")\n",
    "print(f\"Shape answer: {context_padded.shape}\")"
   ]
  },
  {
   "cell_type": "code",
   "execution_count": 16,
   "id": "82a24b45-6fe3-46fb-aabe-e22a0b1c2405",
   "metadata": {},
   "outputs": [
    {
     "name": "stdout",
     "output_type": "stream",
     "text": [
      "✅ Target data siap\n",
      "Shape decoder target: (5000, 20)\n"
     ]
    }
   ],
   "source": [
    "# Target adalah answer sequence itu sendiri\n",
    "decoder_target_data = answer_padded\n",
    "\n",
    "print(\"✅ Target data siap\")\n",
    "print(f\"Shape decoder target: {decoder_target_data.shape}\")"
   ]
  },
  {
   "cell_type": "code",
   "execution_count": 17,
   "id": "b9ec721d-069f-4e1b-8c51-c29976d15fdf",
   "metadata": {},
   "outputs": [
    {
     "name": "stdout",
     "output_type": "stream",
     "text": [
      "Data training: 4000\n",
      "Data validation: 1000\n"
     ]
    }
   ],
   "source": [
    "# Split data\n",
    "(context_train, context_val, \n",
    " question_train, question_val, \n",
    " answer_train, answer_val,\n",
    " target_train, target_val) = train_test_split(\n",
    "    context_padded, question_padded, answer_padded, decoder_target_data,\n",
    "    test_size=0.2, random_state=42\n",
    ")\n",
    "\n",
    "print(f\"Data training: {len(context_train)}\")\n",
    "print(f\"Data validation: {len(context_val)}\")"
   ]
  },
  {
   "cell_type": "markdown",
   "id": "6a0ffd56-cac2-4189-bf91-ccae1bb57c31",
   "metadata": {},
   "source": [
    "## Pembuatan Model SimpleRNN"
   ]
  },
  {
   "cell_type": "code",
   "execution_count": 18,
   "id": "66fcf4e3-0a47-46b0-8354-95cbd3a1bd9c",
   "metadata": {},
   "outputs": [
    {
     "name": "stdout",
     "output_type": "stream",
     "text": [
      "✅ Model RNN murni berhasil dibuat!\n"
     ]
    },
    {
     "data": {
      "text/html": [
       "<pre style=\"white-space:pre;overflow-x:auto;line-height:normal;font-family:Menlo,'DejaVu Sans Mono',consolas,'Courier New',monospace\"><span style=\"font-weight: bold\">Model: \"functional\"</span>\n",
       "</pre>\n"
      ],
      "text/plain": [
       "\u001b[1mModel: \"functional\"\u001b[0m\n"
      ]
     },
     "metadata": {},
     "output_type": "display_data"
    },
    {
     "data": {
      "text/html": [
       "<pre style=\"white-space:pre;overflow-x:auto;line-height:normal;font-family:Menlo,'DejaVu Sans Mono',consolas,'Courier New',monospace\">┏━━━━━━━━━━━━━━━━━━━━━━━━━━━━━━━┳━━━━━━━━━━━━━━━━━━━━━━━━━━━┳━━━━━━━━━━━━━━━━━┳━━━━━━━━━━━━━━━━━━━━━━━━━━━━┓\n",
       "┃<span style=\"font-weight: bold\"> Layer (type)                  </span>┃<span style=\"font-weight: bold\"> Output Shape              </span>┃<span style=\"font-weight: bold\">         Param # </span>┃<span style=\"font-weight: bold\"> Connected to               </span>┃\n",
       "┡━━━━━━━━━━━━━━━━━━━━━━━━━━━━━━━╇━━━━━━━━━━━━━━━━━━━━━━━━━━━╇━━━━━━━━━━━━━━━━━╇━━━━━━━━━━━━━━━━━━━━━━━━━━━━┩\n",
       "│ decoder_input (<span style=\"color: #0087ff; text-decoration-color: #0087ff\">InputLayer</span>)    │ (<span style=\"color: #00d7ff; text-decoration-color: #00d7ff\">None</span>, <span style=\"color: #00af00; text-decoration-color: #00af00\">20</span>)                │               <span style=\"color: #00af00; text-decoration-color: #00af00\">0</span> │ -                          │\n",
       "├───────────────────────────────┼───────────────────────────┼─────────────────┼────────────────────────────┤\n",
       "│ context_input (<span style=\"color: #0087ff; text-decoration-color: #0087ff\">InputLayer</span>)    │ (<span style=\"color: #00d7ff; text-decoration-color: #00d7ff\">None</span>, <span style=\"color: #00af00; text-decoration-color: #00af00\">150</span>)               │               <span style=\"color: #00af00; text-decoration-color: #00af00\">0</span> │ -                          │\n",
       "├───────────────────────────────┼───────────────────────────┼─────────────────┼────────────────────────────┤\n",
       "│ question_input (<span style=\"color: #0087ff; text-decoration-color: #0087ff\">InputLayer</span>)   │ (<span style=\"color: #00d7ff; text-decoration-color: #00d7ff\">None</span>, <span style=\"color: #00af00; text-decoration-color: #00af00\">30</span>)                │               <span style=\"color: #00af00; text-decoration-color: #00af00\">0</span> │ -                          │\n",
       "├───────────────────────────────┼───────────────────────────┼─────────────────┼────────────────────────────┤\n",
       "│ embedding (<span style=\"color: #0087ff; text-decoration-color: #0087ff\">Embedding</span>)         │ (<span style=\"color: #00d7ff; text-decoration-color: #00d7ff\">None</span>, <span style=\"color: #00af00; text-decoration-color: #00af00\">20</span>, <span style=\"color: #00af00; text-decoration-color: #00af00\">128</span>)           │       <span style=\"color: #00af00; text-decoration-color: #00af00\">1,526,912</span> │ context_input[<span style=\"color: #00af00; text-decoration-color: #00af00\">0</span>][<span style=\"color: #00af00; text-decoration-color: #00af00\">0</span>],       │\n",
       "│                               │                           │                 │ question_input[<span style=\"color: #00af00; text-decoration-color: #00af00\">0</span>][<span style=\"color: #00af00; text-decoration-color: #00af00\">0</span>],      │\n",
       "│                               │                           │                 │ decoder_input[<span style=\"color: #00af00; text-decoration-color: #00af00\">0</span>][<span style=\"color: #00af00; text-decoration-color: #00af00\">0</span>]        │\n",
       "├───────────────────────────────┼───────────────────────────┼─────────────────┼────────────────────────────┤\n",
       "│ not_equal (<span style=\"color: #0087ff; text-decoration-color: #0087ff\">NotEqual</span>)          │ (<span style=\"color: #00d7ff; text-decoration-color: #00d7ff\">None</span>, <span style=\"color: #00af00; text-decoration-color: #00af00\">150</span>)               │               <span style=\"color: #00af00; text-decoration-color: #00af00\">0</span> │ context_input[<span style=\"color: #00af00; text-decoration-color: #00af00\">0</span>][<span style=\"color: #00af00; text-decoration-color: #00af00\">0</span>]        │\n",
       "├───────────────────────────────┼───────────────────────────┼─────────────────┼────────────────────────────┤\n",
       "│ not_equal_1 (<span style=\"color: #0087ff; text-decoration-color: #0087ff\">NotEqual</span>)        │ (<span style=\"color: #00d7ff; text-decoration-color: #00d7ff\">None</span>, <span style=\"color: #00af00; text-decoration-color: #00af00\">30</span>)                │               <span style=\"color: #00af00; text-decoration-color: #00af00\">0</span> │ question_input[<span style=\"color: #00af00; text-decoration-color: #00af00\">0</span>][<span style=\"color: #00af00; text-decoration-color: #00af00\">0</span>]       │\n",
       "├───────────────────────────────┼───────────────────────────┼─────────────────┼────────────────────────────┤\n",
       "│ context_rnn (<span style=\"color: #0087ff; text-decoration-color: #0087ff\">SimpleRNN</span>)       │ [(<span style=\"color: #00d7ff; text-decoration-color: #00d7ff\">None</span>, <span style=\"color: #00af00; text-decoration-color: #00af00\">256</span>), (<span style=\"color: #00d7ff; text-decoration-color: #00d7ff\">None</span>,      │          <span style=\"color: #00af00; text-decoration-color: #00af00\">98,560</span> │ embedding[<span style=\"color: #00af00; text-decoration-color: #00af00\">0</span>][<span style=\"color: #00af00; text-decoration-color: #00af00\">0</span>],           │\n",
       "│                               │ <span style=\"color: #00af00; text-decoration-color: #00af00\">256</span>)]                     │                 │ not_equal[<span style=\"color: #00af00; text-decoration-color: #00af00\">0</span>][<span style=\"color: #00af00; text-decoration-color: #00af00\">0</span>]            │\n",
       "├───────────────────────────────┼───────────────────────────┼─────────────────┼────────────────────────────┤\n",
       "│ question_rnn (<span style=\"color: #0087ff; text-decoration-color: #0087ff\">SimpleRNN</span>)      │ [(<span style=\"color: #00d7ff; text-decoration-color: #00d7ff\">None</span>, <span style=\"color: #00af00; text-decoration-color: #00af00\">256</span>), (<span style=\"color: #00d7ff; text-decoration-color: #00d7ff\">None</span>,      │          <span style=\"color: #00af00; text-decoration-color: #00af00\">98,560</span> │ embedding[<span style=\"color: #00af00; text-decoration-color: #00af00\">1</span>][<span style=\"color: #00af00; text-decoration-color: #00af00\">0</span>],           │\n",
       "│                               │ <span style=\"color: #00af00; text-decoration-color: #00af00\">256</span>)]                     │                 │ not_equal_1[<span style=\"color: #00af00; text-decoration-color: #00af00\">0</span>][<span style=\"color: #00af00; text-decoration-color: #00af00\">0</span>]          │\n",
       "├───────────────────────────────┼───────────────────────────┼─────────────────┼────────────────────────────┤\n",
       "│ concatenate (<span style=\"color: #0087ff; text-decoration-color: #0087ff\">Concatenate</span>)     │ (<span style=\"color: #00d7ff; text-decoration-color: #00d7ff\">None</span>, <span style=\"color: #00af00; text-decoration-color: #00af00\">512</span>)               │               <span style=\"color: #00af00; text-decoration-color: #00af00\">0</span> │ context_rnn[<span style=\"color: #00af00; text-decoration-color: #00af00\">0</span>][<span style=\"color: #00af00; text-decoration-color: #00af00\">1</span>],         │\n",
       "│                               │                           │                 │ question_rnn[<span style=\"color: #00af00; text-decoration-color: #00af00\">0</span>][<span style=\"color: #00af00; text-decoration-color: #00af00\">1</span>]         │\n",
       "├───────────────────────────────┼───────────────────────────┼─────────────────┼────────────────────────────┤\n",
       "│ combined_state (<span style=\"color: #0087ff; text-decoration-color: #0087ff\">Dense</span>)        │ (<span style=\"color: #00d7ff; text-decoration-color: #00d7ff\">None</span>, <span style=\"color: #00af00; text-decoration-color: #00af00\">256</span>)               │         <span style=\"color: #00af00; text-decoration-color: #00af00\">131,328</span> │ concatenate[<span style=\"color: #00af00; text-decoration-color: #00af00\">0</span>][<span style=\"color: #00af00; text-decoration-color: #00af00\">0</span>]          │\n",
       "├───────────────────────────────┼───────────────────────────┼─────────────────┼────────────────────────────┤\n",
       "│ decoder_rnn (<span style=\"color: #0087ff; text-decoration-color: #0087ff\">SimpleRNN</span>)       │ [(<span style=\"color: #00d7ff; text-decoration-color: #00d7ff\">None</span>, <span style=\"color: #00af00; text-decoration-color: #00af00\">20</span>, <span style=\"color: #00af00; text-decoration-color: #00af00\">256</span>), (<span style=\"color: #00d7ff; text-decoration-color: #00d7ff\">None</span>,  │          <span style=\"color: #00af00; text-decoration-color: #00af00\">98,560</span> │ embedding[<span style=\"color: #00af00; text-decoration-color: #00af00\">2</span>][<span style=\"color: #00af00; text-decoration-color: #00af00\">0</span>],           │\n",
       "│                               │ <span style=\"color: #00af00; text-decoration-color: #00af00\">256</span>)]                     │                 │ combined_state[<span style=\"color: #00af00; text-decoration-color: #00af00\">0</span>][<span style=\"color: #00af00; text-decoration-color: #00af00\">0</span>]       │\n",
       "├───────────────────────────────┼───────────────────────────┼─────────────────┼────────────────────────────┤\n",
       "│ output_layer (<span style=\"color: #0087ff; text-decoration-color: #0087ff\">Dense</span>)          │ (<span style=\"color: #00d7ff; text-decoration-color: #00d7ff\">None</span>, <span style=\"color: #00af00; text-decoration-color: #00af00\">20</span>, <span style=\"color: #00af00; text-decoration-color: #00af00\">11929</span>)         │       <span style=\"color: #00af00; text-decoration-color: #00af00\">3,065,753</span> │ decoder_rnn[<span style=\"color: #00af00; text-decoration-color: #00af00\">0</span>][<span style=\"color: #00af00; text-decoration-color: #00af00\">0</span>]          │\n",
       "└───────────────────────────────┴───────────────────────────┴─────────────────┴────────────────────────────┘\n",
       "</pre>\n"
      ],
      "text/plain": [
       "┏━━━━━━━━━━━━━━━━━━━━━━━━━━━━━━━┳━━━━━━━━━━━━━━━━━━━━━━━━━━━┳━━━━━━━━━━━━━━━━━┳━━━━━━━━━━━━━━━━━━━━━━━━━━━━┓\n",
       "┃\u001b[1m \u001b[0m\u001b[1mLayer (type)                 \u001b[0m\u001b[1m \u001b[0m┃\u001b[1m \u001b[0m\u001b[1mOutput Shape             \u001b[0m\u001b[1m \u001b[0m┃\u001b[1m \u001b[0m\u001b[1m        Param #\u001b[0m\u001b[1m \u001b[0m┃\u001b[1m \u001b[0m\u001b[1mConnected to              \u001b[0m\u001b[1m \u001b[0m┃\n",
       "┡━━━━━━━━━━━━━━━━━━━━━━━━━━━━━━━╇━━━━━━━━━━━━━━━━━━━━━━━━━━━╇━━━━━━━━━━━━━━━━━╇━━━━━━━━━━━━━━━━━━━━━━━━━━━━┩\n",
       "│ decoder_input (\u001b[38;5;33mInputLayer\u001b[0m)    │ (\u001b[38;5;45mNone\u001b[0m, \u001b[38;5;34m20\u001b[0m)                │               \u001b[38;5;34m0\u001b[0m │ -                          │\n",
       "├───────────────────────────────┼───────────────────────────┼─────────────────┼────────────────────────────┤\n",
       "│ context_input (\u001b[38;5;33mInputLayer\u001b[0m)    │ (\u001b[38;5;45mNone\u001b[0m, \u001b[38;5;34m150\u001b[0m)               │               \u001b[38;5;34m0\u001b[0m │ -                          │\n",
       "├───────────────────────────────┼───────────────────────────┼─────────────────┼────────────────────────────┤\n",
       "│ question_input (\u001b[38;5;33mInputLayer\u001b[0m)   │ (\u001b[38;5;45mNone\u001b[0m, \u001b[38;5;34m30\u001b[0m)                │               \u001b[38;5;34m0\u001b[0m │ -                          │\n",
       "├───────────────────────────────┼───────────────────────────┼─────────────────┼────────────────────────────┤\n",
       "│ embedding (\u001b[38;5;33mEmbedding\u001b[0m)         │ (\u001b[38;5;45mNone\u001b[0m, \u001b[38;5;34m20\u001b[0m, \u001b[38;5;34m128\u001b[0m)           │       \u001b[38;5;34m1,526,912\u001b[0m │ context_input[\u001b[38;5;34m0\u001b[0m][\u001b[38;5;34m0\u001b[0m],       │\n",
       "│                               │                           │                 │ question_input[\u001b[38;5;34m0\u001b[0m][\u001b[38;5;34m0\u001b[0m],      │\n",
       "│                               │                           │                 │ decoder_input[\u001b[38;5;34m0\u001b[0m][\u001b[38;5;34m0\u001b[0m]        │\n",
       "├───────────────────────────────┼───────────────────────────┼─────────────────┼────────────────────────────┤\n",
       "│ not_equal (\u001b[38;5;33mNotEqual\u001b[0m)          │ (\u001b[38;5;45mNone\u001b[0m, \u001b[38;5;34m150\u001b[0m)               │               \u001b[38;5;34m0\u001b[0m │ context_input[\u001b[38;5;34m0\u001b[0m][\u001b[38;5;34m0\u001b[0m]        │\n",
       "├───────────────────────────────┼───────────────────────────┼─────────────────┼────────────────────────────┤\n",
       "│ not_equal_1 (\u001b[38;5;33mNotEqual\u001b[0m)        │ (\u001b[38;5;45mNone\u001b[0m, \u001b[38;5;34m30\u001b[0m)                │               \u001b[38;5;34m0\u001b[0m │ question_input[\u001b[38;5;34m0\u001b[0m][\u001b[38;5;34m0\u001b[0m]       │\n",
       "├───────────────────────────────┼───────────────────────────┼─────────────────┼────────────────────────────┤\n",
       "│ context_rnn (\u001b[38;5;33mSimpleRNN\u001b[0m)       │ [(\u001b[38;5;45mNone\u001b[0m, \u001b[38;5;34m256\u001b[0m), (\u001b[38;5;45mNone\u001b[0m,      │          \u001b[38;5;34m98,560\u001b[0m │ embedding[\u001b[38;5;34m0\u001b[0m][\u001b[38;5;34m0\u001b[0m],           │\n",
       "│                               │ \u001b[38;5;34m256\u001b[0m)]                     │                 │ not_equal[\u001b[38;5;34m0\u001b[0m][\u001b[38;5;34m0\u001b[0m]            │\n",
       "├───────────────────────────────┼───────────────────────────┼─────────────────┼────────────────────────────┤\n",
       "│ question_rnn (\u001b[38;5;33mSimpleRNN\u001b[0m)      │ [(\u001b[38;5;45mNone\u001b[0m, \u001b[38;5;34m256\u001b[0m), (\u001b[38;5;45mNone\u001b[0m,      │          \u001b[38;5;34m98,560\u001b[0m │ embedding[\u001b[38;5;34m1\u001b[0m][\u001b[38;5;34m0\u001b[0m],           │\n",
       "│                               │ \u001b[38;5;34m256\u001b[0m)]                     │                 │ not_equal_1[\u001b[38;5;34m0\u001b[0m][\u001b[38;5;34m0\u001b[0m]          │\n",
       "├───────────────────────────────┼───────────────────────────┼─────────────────┼────────────────────────────┤\n",
       "│ concatenate (\u001b[38;5;33mConcatenate\u001b[0m)     │ (\u001b[38;5;45mNone\u001b[0m, \u001b[38;5;34m512\u001b[0m)               │               \u001b[38;5;34m0\u001b[0m │ context_rnn[\u001b[38;5;34m0\u001b[0m][\u001b[38;5;34m1\u001b[0m],         │\n",
       "│                               │                           │                 │ question_rnn[\u001b[38;5;34m0\u001b[0m][\u001b[38;5;34m1\u001b[0m]         │\n",
       "├───────────────────────────────┼───────────────────────────┼─────────────────┼────────────────────────────┤\n",
       "│ combined_state (\u001b[38;5;33mDense\u001b[0m)        │ (\u001b[38;5;45mNone\u001b[0m, \u001b[38;5;34m256\u001b[0m)               │         \u001b[38;5;34m131,328\u001b[0m │ concatenate[\u001b[38;5;34m0\u001b[0m][\u001b[38;5;34m0\u001b[0m]          │\n",
       "├───────────────────────────────┼───────────────────────────┼─────────────────┼────────────────────────────┤\n",
       "│ decoder_rnn (\u001b[38;5;33mSimpleRNN\u001b[0m)       │ [(\u001b[38;5;45mNone\u001b[0m, \u001b[38;5;34m20\u001b[0m, \u001b[38;5;34m256\u001b[0m), (\u001b[38;5;45mNone\u001b[0m,  │          \u001b[38;5;34m98,560\u001b[0m │ embedding[\u001b[38;5;34m2\u001b[0m][\u001b[38;5;34m0\u001b[0m],           │\n",
       "│                               │ \u001b[38;5;34m256\u001b[0m)]                     │                 │ combined_state[\u001b[38;5;34m0\u001b[0m][\u001b[38;5;34m0\u001b[0m]       │\n",
       "├───────────────────────────────┼───────────────────────────┼─────────────────┼────────────────────────────┤\n",
       "│ output_layer (\u001b[38;5;33mDense\u001b[0m)          │ (\u001b[38;5;45mNone\u001b[0m, \u001b[38;5;34m20\u001b[0m, \u001b[38;5;34m11929\u001b[0m)         │       \u001b[38;5;34m3,065,753\u001b[0m │ decoder_rnn[\u001b[38;5;34m0\u001b[0m][\u001b[38;5;34m0\u001b[0m]          │\n",
       "└───────────────────────────────┴───────────────────────────┴─────────────────┴────────────────────────────┘\n"
      ]
     },
     "metadata": {},
     "output_type": "display_data"
    },
    {
     "data": {
      "text/html": [
       "<pre style=\"white-space:pre;overflow-x:auto;line-height:normal;font-family:Menlo,'DejaVu Sans Mono',consolas,'Courier New',monospace\"><span style=\"font-weight: bold\"> Total params: </span><span style=\"color: #00af00; text-decoration-color: #00af00\">5,019,673</span> (19.15 MB)\n",
       "</pre>\n"
      ],
      "text/plain": [
       "\u001b[1m Total params: \u001b[0m\u001b[38;5;34m5,019,673\u001b[0m (19.15 MB)\n"
      ]
     },
     "metadata": {},
     "output_type": "display_data"
    },
    {
     "data": {
      "text/html": [
       "<pre style=\"white-space:pre;overflow-x:auto;line-height:normal;font-family:Menlo,'DejaVu Sans Mono',consolas,'Courier New',monospace\"><span style=\"font-weight: bold\"> Trainable params: </span><span style=\"color: #00af00; text-decoration-color: #00af00\">5,019,673</span> (19.15 MB)\n",
       "</pre>\n"
      ],
      "text/plain": [
       "\u001b[1m Trainable params: \u001b[0m\u001b[38;5;34m5,019,673\u001b[0m (19.15 MB)\n"
      ]
     },
     "metadata": {},
     "output_type": "display_data"
    },
    {
     "data": {
      "text/html": [
       "<pre style=\"white-space:pre;overflow-x:auto;line-height:normal;font-family:Menlo,'DejaVu Sans Mono',consolas,'Courier New',monospace\"><span style=\"font-weight: bold\"> Non-trainable params: </span><span style=\"color: #00af00; text-decoration-color: #00af00\">0</span> (0.00 B)\n",
       "</pre>\n"
      ],
      "text/plain": [
       "\u001b[1m Non-trainable params: \u001b[0m\u001b[38;5;34m0\u001b[0m (0.00 B)\n"
      ]
     },
     "metadata": {},
     "output_type": "display_data"
    }
   ],
   "source": [
    "# Hyperparameters\n",
    "embedding_dim = 128\n",
    "rnn_units = 256\n",
    "\n",
    "# === ENCODER ===\n",
    "# Input untuk context dan question\n",
    "context_input = Input(shape=(max_context_len,), name='context_input')\n",
    "question_input = Input(shape=(max_question_len,), name='question_input')\n",
    "\n",
    "# Shared embedding layer\n",
    "embedding_layer = Embedding(vocab_size, embedding_dim, mask_zero=True)\n",
    "\n",
    "# Encode context\n",
    "context_embedded = embedding_layer(context_input)\n",
    "context_rnn = SimpleRNN(rnn_units, return_state=True, name='context_rnn')\n",
    "_, context_state = context_rnn(context_embedded)\n",
    "\n",
    "# Encode question\n",
    "question_embedded = embedding_layer(question_input)\n",
    "question_rnn = SimpleRNN(rnn_units, return_state=True, name='question_rnn')\n",
    "_, question_state = question_rnn(question_embedded)\n",
    "\n",
    "# Gabungkan context dan question state\n",
    "encoder_state = Concatenate()([context_state, question_state])\n",
    "encoder_state = Dense(rnn_units, activation='tanh', name='combined_state')(encoder_state)\n",
    "\n",
    "# === DECODER ===\n",
    "# Input untuk answer (decoder)\n",
    "decoder_input = Input(shape=(max_answer_len,), name='decoder_input')\n",
    "decoder_embedded = embedding_layer(decoder_input)\n",
    "\n",
    "# Decoder RNN\n",
    "decoder_rnn = SimpleRNN(rnn_units, return_sequences=True, return_state=True, name='decoder_rnn')\n",
    "decoder_output, _ = decoder_rnn(decoder_embedded, initial_state=encoder_state)\n",
    "\n",
    "# Output layer\n",
    "decoder_dense = Dense(vocab_size, activation='softmax', name='output_layer')\n",
    "decoder_outputs = decoder_dense(decoder_output)\n",
    "\n",
    "# Model lengkap\n",
    "model = Model(\n",
    "    inputs=[context_input, question_input, decoder_input],\n",
    "    outputs=decoder_outputs\n",
    ")\n",
    "\n",
    "print(\"✅ Model RNN murni berhasil dibuat!\")\n",
    "model.summary()"
   ]
  },
  {
   "cell_type": "code",
   "execution_count": 19,
   "id": "677a9cb5-9117-4e91-a2dd-0a7d562b7e38",
   "metadata": {},
   "outputs": [
    {
     "name": "stdout",
     "output_type": "stream",
     "text": [
      "✅ Model berhasil di-compile\n"
     ]
    }
   ],
   "source": [
    "# Gunakan sparse_categorical_crossentropy untuk hemat memory\n",
    "model.compile(\n",
    "    optimizer='adam',\n",
    "    loss='sparse_categorical_crossentropy',  # Sparse version!\n",
    "    metrics=['accuracy']\n",
    ")\n",
    "\n",
    "print(\"✅ Model berhasil di-compile\")"
   ]
  },
  {
   "cell_type": "markdown",
   "id": "a0d031f7-3b66-45bc-9b7c-87b9976cb361",
   "metadata": {},
   "source": [
    "## Training model SimpleRNN sebanyak 50 epoch dengan earlystop"
   ]
  },
  {
   "cell_type": "code",
   "execution_count": 20,
   "id": "65c438ed-b9d4-4781-b3d6-e41b7af58041",
   "metadata": {},
   "outputs": [
    {
     "name": "stdout",
     "output_type": "stream",
     "text": [
      "\n",
      "🚀 Memulai training...\n",
      "Epoch 1/50\n",
      "\u001b[1m125/125\u001b[0m \u001b[32m━━━━━━━━━━━━━━━━━━━━\u001b[0m\u001b[37m\u001b[0m \u001b[1m32s\u001b[0m 236ms/step - accuracy: 0.0033 - loss: 8.4070 - val_accuracy: 0.0043 - val_loss: 7.7526\n",
      "Epoch 2/50\n",
      "\u001b[1m125/125\u001b[0m \u001b[32m━━━━━━━━━━━━━━━━━━━━\u001b[0m\u001b[37m\u001b[0m \u001b[1m28s\u001b[0m 227ms/step - accuracy: 0.0050 - loss: 6.7954 - val_accuracy: 0.0085 - val_loss: 7.3298\n",
      "Epoch 3/50\n",
      "\u001b[1m125/125\u001b[0m \u001b[32m━━━━━━━━━━━━━━━━━━━━\u001b[0m\u001b[37m\u001b[0m \u001b[1m28s\u001b[0m 228ms/step - accuracy: 0.0093 - loss: 6.1369 - val_accuracy: 0.0122 - val_loss: 7.2858\n",
      "Epoch 4/50\n",
      "\u001b[1m125/125\u001b[0m \u001b[32m━━━━━━━━━━━━━━━━━━━━\u001b[0m\u001b[37m\u001b[0m \u001b[1m28s\u001b[0m 228ms/step - accuracy: 0.0142 - loss: 5.6261 - val_accuracy: 0.0173 - val_loss: 6.9385\n",
      "Epoch 5/50\n",
      "\u001b[1m125/125\u001b[0m \u001b[32m━━━━━━━━━━━━━━━━━━━━\u001b[0m\u001b[37m\u001b[0m \u001b[1m28s\u001b[0m 225ms/step - accuracy: 0.0246 - loss: 4.9693 - val_accuracy: 0.0260 - val_loss: 6.4882\n",
      "Epoch 6/50\n",
      "\u001b[1m125/125\u001b[0m \u001b[32m━━━━━━━━━━━━━━━━━━━━\u001b[0m\u001b[37m\u001b[0m \u001b[1m29s\u001b[0m 228ms/step - accuracy: 0.0391 - loss: 4.1976 - val_accuracy: 0.0384 - val_loss: 6.0103\n",
      "Epoch 7/50\n",
      "\u001b[1m125/125\u001b[0m \u001b[32m━━━━━━━━━━━━━━━━━━━━\u001b[0m\u001b[37m\u001b[0m \u001b[1m29s\u001b[0m 235ms/step - accuracy: 0.0540 - loss: 3.4432 - val_accuracy: 0.0488 - val_loss: 5.6606\n",
      "Epoch 8/50\n",
      "\u001b[1m125/125\u001b[0m \u001b[32m━━━━━━━━━━━━━━━━━━━━\u001b[0m\u001b[37m\u001b[0m \u001b[1m28s\u001b[0m 228ms/step - accuracy: 0.0695 - loss: 2.7798 - val_accuracy: 0.0576 - val_loss: 5.2705\n",
      "Epoch 9/50\n",
      "\u001b[1m125/125\u001b[0m \u001b[32m━━━━━━━━━━━━━━━━━━━━\u001b[0m\u001b[37m\u001b[0m \u001b[1m28s\u001b[0m 227ms/step - accuracy: 0.0840 - loss: 2.1911 - val_accuracy: 0.0651 - val_loss: 5.1029\n",
      "Epoch 10/50\n",
      "\u001b[1m125/125\u001b[0m \u001b[32m━━━━━━━━━━━━━━━━━━━━\u001b[0m\u001b[37m\u001b[0m \u001b[1m29s\u001b[0m 229ms/step - accuracy: 0.0959 - loss: 1.6998 - val_accuracy: 0.0693 - val_loss: 4.9034\n",
      "Epoch 11/50\n",
      "\u001b[1m125/125\u001b[0m \u001b[32m━━━━━━━━━━━━━━━━━━━━\u001b[0m\u001b[37m\u001b[0m \u001b[1m29s\u001b[0m 228ms/step - accuracy: 0.1038 - loss: 1.3168 - val_accuracy: 0.0733 - val_loss: 4.6192\n",
      "Epoch 12/50\n",
      "\u001b[1m125/125\u001b[0m \u001b[32m━━━━━━━━━━━━━━━━━━━━\u001b[0m\u001b[37m\u001b[0m \u001b[1m28s\u001b[0m 228ms/step - accuracy: 0.1098 - loss: 0.9856 - val_accuracy: 0.0759 - val_loss: 4.5309\n",
      "Epoch 13/50\n",
      "\u001b[1m125/125\u001b[0m \u001b[32m━━━━━━━━━━━━━━━━━━━━\u001b[0m\u001b[37m\u001b[0m \u001b[1m29s\u001b[0m 229ms/step - accuracy: 0.1143 - loss: 0.7409 - val_accuracy: 0.0784 - val_loss: 4.4829\n",
      "Epoch 14/50\n",
      "\u001b[1m125/125\u001b[0m \u001b[32m━━━━━━━━━━━━━━━━━━━━\u001b[0m\u001b[37m\u001b[0m \u001b[1m28s\u001b[0m 228ms/step - accuracy: 0.1179 - loss: 0.5492 - val_accuracy: 0.0796 - val_loss: 4.3942\n",
      "Epoch 15/50\n",
      "\u001b[1m125/125\u001b[0m \u001b[32m━━━━━━━━━━━━━━━━━━━━\u001b[0m\u001b[37m\u001b[0m \u001b[1m29s\u001b[0m 230ms/step - accuracy: 0.1215 - loss: 0.4048 - val_accuracy: 0.0805 - val_loss: 4.3656\n",
      "Epoch 16/50\n",
      "\u001b[1m125/125\u001b[0m \u001b[32m━━━━━━━━━━━━━━━━━━━━\u001b[0m\u001b[37m\u001b[0m \u001b[1m28s\u001b[0m 227ms/step - accuracy: 0.1237 - loss: 0.2949 - val_accuracy: 0.0811 - val_loss: 4.3296\n",
      "Epoch 17/50\n",
      "\u001b[1m125/125\u001b[0m \u001b[32m━━━━━━━━━━━━━━━━━━━━\u001b[0m\u001b[37m\u001b[0m \u001b[1m29s\u001b[0m 231ms/step - accuracy: 0.1247 - loss: 0.2107 - val_accuracy: 0.0815 - val_loss: 4.2864\n",
      "Epoch 18/50\n",
      "\u001b[1m125/125\u001b[0m \u001b[32m━━━━━━━━━━━━━━━━━━━━\u001b[0m\u001b[37m\u001b[0m \u001b[1m29s\u001b[0m 228ms/step - accuracy: 0.1251 - loss: 0.1494 - val_accuracy: 0.0820 - val_loss: 4.2765\n",
      "Epoch 19/50\n",
      "\u001b[1m125/125\u001b[0m \u001b[32m━━━━━━━━━━━━━━━━━━━━\u001b[0m\u001b[37m\u001b[0m \u001b[1m28s\u001b[0m 227ms/step - accuracy: 0.1252 - loss: 0.1050 - val_accuracy: 0.0828 - val_loss: 4.2619\n",
      "Epoch 20/50\n",
      "\u001b[1m125/125\u001b[0m \u001b[32m━━━━━━━━━━━━━━━━━━━━\u001b[0m\u001b[37m\u001b[0m \u001b[1m28s\u001b[0m 228ms/step - accuracy: 0.1252 - loss: 0.0757 - val_accuracy: 0.0827 - val_loss: 4.2213\n",
      "Epoch 21/50\n",
      "\u001b[1m125/125\u001b[0m \u001b[32m━━━━━━━━━━━━━━━━━━━━\u001b[0m\u001b[37m\u001b[0m \u001b[1m29s\u001b[0m 228ms/step - accuracy: 0.1252 - loss: 0.0582 - val_accuracy: 0.0833 - val_loss: 4.2400\n",
      "Epoch 22/50\n",
      "\u001b[1m125/125\u001b[0m \u001b[32m━━━━━━━━━━━━━━━━━━━━\u001b[0m\u001b[37m\u001b[0m \u001b[1m28s\u001b[0m 227ms/step - accuracy: 0.1251 - loss: 0.0478 - val_accuracy: 0.0834 - val_loss: 4.1129\n",
      "Epoch 23/50\n",
      "\u001b[1m125/125\u001b[0m \u001b[32m━━━━━━━━━━━━━━━━━━━━\u001b[0m\u001b[37m\u001b[0m \u001b[1m28s\u001b[0m 228ms/step - accuracy: 0.1251 - loss: 0.0401 - val_accuracy: 0.0838 - val_loss: 4.1583\n",
      "Epoch 24/50\n",
      "\u001b[1m125/125\u001b[0m \u001b[32m━━━━━━━━━━━━━━━━━━━━\u001b[0m\u001b[37m\u001b[0m \u001b[1m29s\u001b[0m 229ms/step - accuracy: 0.1252 - loss: 0.0333 - val_accuracy: 0.0844 - val_loss: 4.1515\n",
      "Epoch 25/50\n",
      "\u001b[1m125/125\u001b[0m \u001b[32m━━━━━━━━━━━━━━━━━━━━\u001b[0m\u001b[37m\u001b[0m \u001b[1m29s\u001b[0m 230ms/step - accuracy: 0.1251 - loss: 0.0296 - val_accuracy: 0.0850 - val_loss: 4.1595\n",
      "✅ Training selesai!\n"
     ]
    }
   ],
   "source": [
    "# Callback untuk early stopping\n",
    "early_stop = tf.keras.callbacks.EarlyStopping(\n",
    "    monitor='val_loss',\n",
    "    patience=3,\n",
    "    restore_best_weights=True\n",
    ")\n",
    "\n",
    "# Training\n",
    "print(\"\\n🚀 Memulai training...\")\n",
    "history = model.fit(\n",
    "    [context_train, question_train, answer_train],\n",
    "    target_train,\n",
    "    batch_size=32,\n",
    "    epochs=50,\n",
    "    validation_data=(\n",
    "        [context_val, question_val, answer_val],\n",
    "        target_val\n",
    "    ),\n",
    "    callbacks=[early_stop],\n",
    "    verbose=1\n",
    ")\n",
    "\n",
    "print(\"✅ Training selesai!\")"
   ]
  },
  {
   "cell_type": "code",
   "execution_count": 21,
   "id": "dde70c71-83a7-4b35-aa07-eefbe424bd8d",
   "metadata": {},
   "outputs": [
    {
     "data": {
      "image/png": "[encoded data removed]",
      "text/plain": [
       "<Figure size 1200x400 with 2 Axes>"
      ]
     },
     "metadata": {},
     "output_type": "display_data"
    }
   ],
   "source": [
    "import matplotlib.pyplot as plt\n",
    "\n",
    "plt.figure(figsize=(12, 4))\n",
    "\n",
    "# Plot loss\n",
    "plt.subplot(1, 2, 1)\n",
    "plt.plot(history.history['loss'], label='Training Loss')\n",
    "plt.plot(history.history['val_loss'], label='Validation Loss')\n",
    "plt.title('Model Loss')\n",
    "plt.xlabel('Epoch')\n",
    "plt.ylabel('Loss')\n",
    "plt.legend()\n",
    "plt.grid(True)\n",
    "\n",
    "# Plot accuracy\n",
    "plt.subplot(1, 2, 2)\n",
    "plt.plot(history.history['accuracy'], label='Training Accuracy')\n",
    "plt.plot(history.history['val_accuracy'], label='Validation Accuracy')\n",
    "plt.title('Model Accuracy')\n",
    "plt.xlabel('Epoch')\n",
    "plt.ylabel('Accuracy')\n",
    "plt.legend()\n",
    "plt.grid(True)\n",
    "\n",
    "plt.tight_layout()\n",
    "plt.show()"
   ]
  },
  {
   "cell_type": "markdown",
   "id": "192faaf0-0fd2-4fb0-9515-d36a0148db0e",
   "metadata": {},
   "source": [
    "## Hasil Training\n",
    "Model dilatih selama 50 epoch dengan Early Stopping. Pelatihan berhenti pada epoch ke-25.\n",
    "* Hasil: Akurasi training stagnan di sekitar 0.125 dan tidak menunjukkan kemajuan berarti.\n",
    "* Analisis: Model gagal belajar (underfitting), kemungkinan besar karena vanishing gradient problem pada SimpleRNN yang kesulitan menangani sekuens panjang."
   ]
  },
  {
   "cell_type": "code",
   "execution_count": 22,
   "id": "67bcea19-0c3d-47a1-b4c7-d9586c3450a4",
   "metadata": {},
   "outputs": [
    {
     "name": "stdout",
     "output_type": "stream",
     "text": [
      "✅ Model inference berhasil dibuat!\n"
     ]
    }
   ],
   "source": [
    "# Encoder inference model\n",
    "encoder_model = Model(\n",
    "    inputs=[context_input, question_input],\n",
    "    outputs=encoder_state\n",
    ")\n",
    "\n",
    "# Decoder inference model\n",
    "decoder_state_input = Input(shape=(rnn_units,))\n",
    "decoder_embedded_inf = embedding_layer(decoder_input)\n",
    "decoder_output_inf, decoder_state_inf = decoder_rnn(\n",
    "    decoder_embedded_inf,\n",
    "    initial_state=decoder_state_input\n",
    ")\n",
    "decoder_output_inf = decoder_dense(decoder_output_inf)\n",
    "\n",
    "decoder_model = Model(\n",
    "    inputs=[decoder_input, decoder_state_input],\n",
    "    outputs=[decoder_output_inf, decoder_state_inf]\n",
    ")\n",
    "\n",
    "print(\"✅ Model inference berhasil dibuat!\")"
   ]
  },
  {
   "cell_type": "code",
   "execution_count": 23,
   "id": "c26d01ac-58d6-4f6a-b236-387e33ec1412",
   "metadata": {},
   "outputs": [
    {
     "name": "stdout",
     "output_type": "stream",
     "text": [
      "✅ Fungsi prediksi siap digunakan!\n"
     ]
    }
   ],
   "source": [
    "def predict_answer(context, question, max_length=20):\n",
    "    \"\"\"\n",
    "    Prediksi jawaban berdasarkan context dan question\n",
    "    \"\"\"\n",
    "    # Tokenize input\n",
    "    context_seq = tokenizer.texts_to_sequences([context])\n",
    "    question_seq = tokenizer.texts_to_sequences([question])\n",
    "    \n",
    "    # Padding\n",
    "    context_pad = pad_sequences(context_seq, maxlen=max_context_len, padding='post')\n",
    "    question_pad = pad_sequences(question_seq, maxlen=max_question_len, padding='post')\n",
    "    \n",
    "    # Get encoder state\n",
    "    state = encoder_model.predict([context_pad, question_pad], verbose=0)\n",
    "    \n",
    "    # Start dengan token kosong (index 0)\n",
    "    target_seq = np.zeros((1, 1))\n",
    "    \n",
    "    # Decode sequence\n",
    "    decoded_sentence = []\n",
    "    \n",
    "    for _ in range(max_length):\n",
    "        output, state = decoder_model.predict([target_seq, state], verbose=0)\n",
    "        \n",
    "        # Sample token\n",
    "        sampled_token_index = np.argmax(output[0, 0, :])\n",
    "        \n",
    "        # Stop jika padding atau tidak ada kata\n",
    "        if sampled_token_index == 0:\n",
    "            break\n",
    "            \n",
    "        # Convert index ke kata\n",
    "        sampled_word = None\n",
    "        for word, index in tokenizer.word_index.items():\n",
    "            if index == sampled_token_index:\n",
    "                sampled_word = word\n",
    "                break\n",
    "        \n",
    "        if sampled_word:\n",
    "            decoded_sentence.append(sampled_word)\n",
    "        \n",
    "        # Update target sequence\n",
    "        target_seq = np.zeros((1, 1))\n",
    "        target_seq[0, 0] = sampled_token_index\n",
    "    \n",
    "    return ' '.join(decoded_sentence)\n",
    "\n",
    "print(\"✅ Fungsi prediksi siap digunakan!\")"
   ]
  },
  {
   "cell_type": "code",
   "execution_count": 24,
   "id": "eb945f73-1745-46fa-8721-ae11cc4802bc",
   "metadata": {},
   "outputs": [
    {
     "name": "stdout",
     "output_type": "stream",
     "text": [
      "============================================================\n",
      "📝 TEST PREDIKSI\n",
      "============================================================\n",
      "\n",
      "Konteks:\n",
      "Beyoncé Giselle Knowles-Carter (/ biːˈjɒnseɪ / bee-YON-say) (lahir 4 September 1981) adalah seorang penyanyi, penulis lagu, produser rekaman dan aktris Amerika. Dilahirkan dan dibesarkan di Houston, T...\n",
      "\n",
      "Pertanyaan: Kapan Beyonce mulai populer?\n",
      "\n",
      "Jawaban Asli: pada akhir 1990-an\n",
      "Jawaban Prediksi: dansa perdana first couple arts sega lasalle sūtra nasional nasional nasional nasional nasional nasional nasional nasional nasional nasional nasional nasional\n",
      "============================================================\n"
     ]
    }
   ],
   "source": [
    "test_idx = 0\n",
    "test_context = contexts[test_idx]\n",
    "test_question = questions[test_idx]\n",
    "true_answer = answers[test_idx]\n",
    "\n",
    "print(\"=\" * 60)\n",
    "print(\"📝 TEST PREDIKSI\")\n",
    "print(\"=\" * 60)\n",
    "print(f\"\\nKonteks:\\n{test_context[:200]}...\\n\")\n",
    "print(f\"Pertanyaan: {test_question}\")\n",
    "print(f\"\\nJawaban Asli: {true_answer}\")\n",
    "\n",
    "predicted_answer = predict_answer(test_context, test_question)\n",
    "print(f\"Jawaban Prediksi: {predicted_answer}\")\n",
    "print(\"=\" * 60)"
   ]
  },
  {
   "cell_type": "code",
   "execution_count": 25,
   "id": "789974ae-717b-4895-9eb7-97811b4ff190",
   "metadata": {},
   "outputs": [
    {
     "name": "stdout",
     "output_type": "stream",
     "text": [
      "\n",
      "============================================================\n",
      "🤖 CHATBOT QA\n",
      "============================================================\n",
      "\n",
      "📄 Konteks:\n",
      "Beyoncé Giselle Knowles-Carter (/ biːˈjɒnseɪ / bee-YON-say) (lahir 4 September 1981) adalah seorang penyanyi, penulis lagu, produser rekaman dan aktris Amerika. Dilahirkan dan dibesarkan di Houston, Texas, ia tampil di berbagai kompetisi menyanyi dan menari sebagai seorang anak, dan mulai terkenal p...\n",
      "\n",
      "❓ Pertanyaan: Dalam grup R&B apa dia menjadi penyanyi utama?\n",
      "\n",
      "💬 Jawaban: dansa perdana first couple arts sega lasalle sūtra nasional nasional nasional nasional nasional nasional nasional nasional nasional nasional nasional nasional\n",
      "============================================================\n"
     ]
    },
    {
     "data": {
      "text/plain": [
       "'dansa perdana first couple arts sega lasalle sūtra nasional nasional nasional nasional nasional nasional nasional nasional nasional nasional nasional nasional'"
      ]
     },
     "execution_count": 25,
     "metadata": {},
     "output_type": "execute_result"
    }
   ],
   "source": [
    "def tanya_jawab(context, question):\n",
    "    \"\"\"\n",
    "    Fungsi helper untuk tanya jawab interaktif\n",
    "    \"\"\"\n",
    "    print(\"\\n\" + \"=\"*60)\n",
    "    print(\"🤖 CHATBOT QA\")\n",
    "    print(\"=\"*60)\n",
    "    print(f\"\\n📄 Konteks:\\n{context[:300]}...\\n\")\n",
    "    print(f\"❓ Pertanyaan: {question}\\n\")\n",
    "    \n",
    "    answer = predict_answer(context, question)\n",
    "    print(f\"💬 Jawaban: {answer}\")\n",
    "    print(\"=\"*60)\n",
    "    \n",
    "    return answer\n",
    "\n",
    "# Contoh penggunaan\n",
    "sample_context = contexts[5]\n",
    "sample_question = questions[5]\n",
    "\n",
    "tanya_jawab(sample_context, sample_question)"
   ]
  },
  {
   "cell_type": "markdown",
   "id": "fa713949-b99b-44bb-a6f7-8832c47f6893",
   "metadata": {},
   "source": [
    "## Buat Model LSTM"
   ]
  },
  {
   "cell_type": "code",
   "execution_count": 26,
   "id": "8a97f92d-4a0b-4adf-936d-34c9aebffd0a",
   "metadata": {},
   "outputs": [],
   "source": [
    "from tensorflow.keras.layers import LSTM"
   ]
  },
  {
   "cell_type": "code",
   "execution_count": 27,
   "id": "0633f1cb-a1a9-4fd4-a22c-b728d73728d0",
   "metadata": {},
   "outputs": [
    {
     "name": "stdout",
     "output_type": "stream",
     "text": [
      "✅ Model LSTM berhasil dibuat!\n"
     ]
    },
    {
     "data": {
      "text/html": [
       "<pre style=\"white-space:pre;overflow-x:auto;line-height:normal;font-family:Menlo,'DejaVu Sans Mono',consolas,'Courier New',monospace\"><span style=\"font-weight: bold\">Model: \"functional_3\"</span>\n",
       "</pre>\n"
      ],
      "text/plain": [
       "\u001b[1mModel: \"functional_3\"\u001b[0m\n"
      ]
     },
     "metadata": {},
     "output_type": "display_data"
    },
    {
     "data": {
      "text/html": [
       "<pre style=\"white-space:pre;overflow-x:auto;line-height:normal;font-family:Menlo,'DejaVu Sans Mono',consolas,'Courier New',monospace\">┏━━━━━━━━━━━━━━━━━━━━━━━━━━━━━━━┳━━━━━━━━━━━━━━━━━━━━━━━━━━━┳━━━━━━━━━━━━━━━━━┳━━━━━━━━━━━━━━━━━━━━━━━━━━━━┓\n",
       "┃<span style=\"font-weight: bold\"> Layer (type)                  </span>┃<span style=\"font-weight: bold\"> Output Shape              </span>┃<span style=\"font-weight: bold\">         Param # </span>┃<span style=\"font-weight: bold\"> Connected to               </span>┃\n",
       "┡━━━━━━━━━━━━━━━━━━━━━━━━━━━━━━━╇━━━━━━━━━━━━━━━━━━━━━━━━━━━╇━━━━━━━━━━━━━━━━━╇━━━━━━━━━━━━━━━━━━━━━━━━━━━━┩\n",
       "│ decoder_input_lstm            │ (<span style=\"color: #00d7ff; text-decoration-color: #00d7ff\">None</span>, <span style=\"color: #00af00; text-decoration-color: #00af00\">20</span>)                │               <span style=\"color: #00af00; text-decoration-color: #00af00\">0</span> │ -                          │\n",
       "│ (<span style=\"color: #0087ff; text-decoration-color: #0087ff\">InputLayer</span>)                  │                           │                 │                            │\n",
       "├───────────────────────────────┼───────────────────────────┼─────────────────┼────────────────────────────┤\n",
       "│ context_input_lstm            │ (<span style=\"color: #00d7ff; text-decoration-color: #00d7ff\">None</span>, <span style=\"color: #00af00; text-decoration-color: #00af00\">150</span>)               │               <span style=\"color: #00af00; text-decoration-color: #00af00\">0</span> │ -                          │\n",
       "│ (<span style=\"color: #0087ff; text-decoration-color: #0087ff\">InputLayer</span>)                  │                           │                 │                            │\n",
       "├───────────────────────────────┼───────────────────────────┼─────────────────┼────────────────────────────┤\n",
       "│ question_input_lstm           │ (<span style=\"color: #00d7ff; text-decoration-color: #00d7ff\">None</span>, <span style=\"color: #00af00; text-decoration-color: #00af00\">30</span>)                │               <span style=\"color: #00af00; text-decoration-color: #00af00\">0</span> │ -                          │\n",
       "│ (<span style=\"color: #0087ff; text-decoration-color: #0087ff\">InputLayer</span>)                  │                           │                 │                            │\n",
       "├───────────────────────────────┼───────────────────────────┼─────────────────┼────────────────────────────┤\n",
       "│ embedding_1 (<span style=\"color: #0087ff; text-decoration-color: #0087ff\">Embedding</span>)       │ (<span style=\"color: #00d7ff; text-decoration-color: #00d7ff\">None</span>, <span style=\"color: #00af00; text-decoration-color: #00af00\">20</span>, <span style=\"color: #00af00; text-decoration-color: #00af00\">128</span>)           │       <span style=\"color: #00af00; text-decoration-color: #00af00\">1,526,912</span> │ context_input_lstm[<span style=\"color: #00af00; text-decoration-color: #00af00\">0</span>][<span style=\"color: #00af00; text-decoration-color: #00af00\">0</span>],  │\n",
       "│                               │                           │                 │ question_input_lstm[<span style=\"color: #00af00; text-decoration-color: #00af00\">0</span>][<span style=\"color: #00af00; text-decoration-color: #00af00\">0</span>], │\n",
       "│                               │                           │                 │ decoder_input_lstm[<span style=\"color: #00af00; text-decoration-color: #00af00\">0</span>][<span style=\"color: #00af00; text-decoration-color: #00af00\">0</span>]   │\n",
       "├───────────────────────────────┼───────────────────────────┼─────────────────┼────────────────────────────┤\n",
       "│ not_equal_4 (<span style=\"color: #0087ff; text-decoration-color: #0087ff\">NotEqual</span>)        │ (<span style=\"color: #00d7ff; text-decoration-color: #00d7ff\">None</span>, <span style=\"color: #00af00; text-decoration-color: #00af00\">150</span>)               │               <span style=\"color: #00af00; text-decoration-color: #00af00\">0</span> │ context_input_lstm[<span style=\"color: #00af00; text-decoration-color: #00af00\">0</span>][<span style=\"color: #00af00; text-decoration-color: #00af00\">0</span>]   │\n",
       "├───────────────────────────────┼───────────────────────────┼─────────────────┼────────────────────────────┤\n",
       "│ not_equal_5 (<span style=\"color: #0087ff; text-decoration-color: #0087ff\">NotEqual</span>)        │ (<span style=\"color: #00d7ff; text-decoration-color: #00d7ff\">None</span>, <span style=\"color: #00af00; text-decoration-color: #00af00\">30</span>)                │               <span style=\"color: #00af00; text-decoration-color: #00af00\">0</span> │ question_input_lstm[<span style=\"color: #00af00; text-decoration-color: #00af00\">0</span>][<span style=\"color: #00af00; text-decoration-color: #00af00\">0</span>]  │\n",
       "├───────────────────────────────┼───────────────────────────┼─────────────────┼────────────────────────────┤\n",
       "│ context_lstm (<span style=\"color: #0087ff; text-decoration-color: #0087ff\">LSTM</span>)           │ [(<span style=\"color: #00d7ff; text-decoration-color: #00d7ff\">None</span>, <span style=\"color: #00af00; text-decoration-color: #00af00\">256</span>), (<span style=\"color: #00d7ff; text-decoration-color: #00d7ff\">None</span>,      │         <span style=\"color: #00af00; text-decoration-color: #00af00\">394,240</span> │ embedding_1[<span style=\"color: #00af00; text-decoration-color: #00af00\">0</span>][<span style=\"color: #00af00; text-decoration-color: #00af00\">0</span>],         │\n",
       "│                               │ <span style=\"color: #00af00; text-decoration-color: #00af00\">256</span>), (<span style=\"color: #00d7ff; text-decoration-color: #00d7ff\">None</span>, <span style=\"color: #00af00; text-decoration-color: #00af00\">256</span>)]        │                 │ not_equal_4[<span style=\"color: #00af00; text-decoration-color: #00af00\">0</span>][<span style=\"color: #00af00; text-decoration-color: #00af00\">0</span>]          │\n",
       "├───────────────────────────────┼───────────────────────────┼─────────────────┼────────────────────────────┤\n",
       "│ question_lstm (<span style=\"color: #0087ff; text-decoration-color: #0087ff\">LSTM</span>)          │ [(<span style=\"color: #00d7ff; text-decoration-color: #00d7ff\">None</span>, <span style=\"color: #00af00; text-decoration-color: #00af00\">256</span>), (<span style=\"color: #00d7ff; text-decoration-color: #00d7ff\">None</span>,      │         <span style=\"color: #00af00; text-decoration-color: #00af00\">394,240</span> │ embedding_1[<span style=\"color: #00af00; text-decoration-color: #00af00\">1</span>][<span style=\"color: #00af00; text-decoration-color: #00af00\">0</span>],         │\n",
       "│                               │ <span style=\"color: #00af00; text-decoration-color: #00af00\">256</span>), (<span style=\"color: #00d7ff; text-decoration-color: #00d7ff\">None</span>, <span style=\"color: #00af00; text-decoration-color: #00af00\">256</span>)]        │                 │ not_equal_5[<span style=\"color: #00af00; text-decoration-color: #00af00\">0</span>][<span style=\"color: #00af00; text-decoration-color: #00af00\">0</span>]          │\n",
       "├───────────────────────────────┼───────────────────────────┼─────────────────┼────────────────────────────┤\n",
       "│ concatenate_1 (<span style=\"color: #0087ff; text-decoration-color: #0087ff\">Concatenate</span>)   │ (<span style=\"color: #00d7ff; text-decoration-color: #00d7ff\">None</span>, <span style=\"color: #00af00; text-decoration-color: #00af00\">512</span>)               │               <span style=\"color: #00af00; text-decoration-color: #00af00\">0</span> │ context_lstm[<span style=\"color: #00af00; text-decoration-color: #00af00\">0</span>][<span style=\"color: #00af00; text-decoration-color: #00af00\">1</span>],        │\n",
       "│                               │                           │                 │ question_lstm[<span style=\"color: #00af00; text-decoration-color: #00af00\">0</span>][<span style=\"color: #00af00; text-decoration-color: #00af00\">1</span>]        │\n",
       "├───────────────────────────────┼───────────────────────────┼─────────────────┼────────────────────────────┤\n",
       "│ concatenate_2 (<span style=\"color: #0087ff; text-decoration-color: #0087ff\">Concatenate</span>)   │ (<span style=\"color: #00d7ff; text-decoration-color: #00d7ff\">None</span>, <span style=\"color: #00af00; text-decoration-color: #00af00\">512</span>)               │               <span style=\"color: #00af00; text-decoration-color: #00af00\">0</span> │ context_lstm[<span style=\"color: #00af00; text-decoration-color: #00af00\">0</span>][<span style=\"color: #00af00; text-decoration-color: #00af00\">2</span>],        │\n",
       "│                               │                           │                 │ question_lstm[<span style=\"color: #00af00; text-decoration-color: #00af00\">0</span>][<span style=\"color: #00af00; text-decoration-color: #00af00\">2</span>]        │\n",
       "├───────────────────────────────┼───────────────────────────┼─────────────────┼────────────────────────────┤\n",
       "│ combined_state_h (<span style=\"color: #0087ff; text-decoration-color: #0087ff\">Dense</span>)      │ (<span style=\"color: #00d7ff; text-decoration-color: #00d7ff\">None</span>, <span style=\"color: #00af00; text-decoration-color: #00af00\">256</span>)               │         <span style=\"color: #00af00; text-decoration-color: #00af00\">131,328</span> │ concatenate_1[<span style=\"color: #00af00; text-decoration-color: #00af00\">0</span>][<span style=\"color: #00af00; text-decoration-color: #00af00\">0</span>]        │\n",
       "├───────────────────────────────┼───────────────────────────┼─────────────────┼────────────────────────────┤\n",
       "│ combined_state_c (<span style=\"color: #0087ff; text-decoration-color: #0087ff\">Dense</span>)      │ (<span style=\"color: #00d7ff; text-decoration-color: #00d7ff\">None</span>, <span style=\"color: #00af00; text-decoration-color: #00af00\">256</span>)               │         <span style=\"color: #00af00; text-decoration-color: #00af00\">131,328</span> │ concatenate_2[<span style=\"color: #00af00; text-decoration-color: #00af00\">0</span>][<span style=\"color: #00af00; text-decoration-color: #00af00\">0</span>]        │\n",
       "├───────────────────────────────┼───────────────────────────┼─────────────────┼────────────────────────────┤\n",
       "│ decoder_lstm (<span style=\"color: #0087ff; text-decoration-color: #0087ff\">LSTM</span>)           │ [(<span style=\"color: #00d7ff; text-decoration-color: #00d7ff\">None</span>, <span style=\"color: #00af00; text-decoration-color: #00af00\">20</span>, <span style=\"color: #00af00; text-decoration-color: #00af00\">256</span>), (<span style=\"color: #00d7ff; text-decoration-color: #00d7ff\">None</span>,  │         <span style=\"color: #00af00; text-decoration-color: #00af00\">394,240</span> │ embedding_1[<span style=\"color: #00af00; text-decoration-color: #00af00\">2</span>][<span style=\"color: #00af00; text-decoration-color: #00af00\">0</span>],         │\n",
       "│                               │ <span style=\"color: #00af00; text-decoration-color: #00af00\">256</span>), (<span style=\"color: #00d7ff; text-decoration-color: #00d7ff\">None</span>, <span style=\"color: #00af00; text-decoration-color: #00af00\">256</span>)]        │                 │ combined_state_h[<span style=\"color: #00af00; text-decoration-color: #00af00\">0</span>][<span style=\"color: #00af00; text-decoration-color: #00af00\">0</span>],    │\n",
       "│                               │                           │                 │ combined_state_c[<span style=\"color: #00af00; text-decoration-color: #00af00\">0</span>][<span style=\"color: #00af00; text-decoration-color: #00af00\">0</span>]     │\n",
       "├───────────────────────────────┼───────────────────────────┼─────────────────┼────────────────────────────┤\n",
       "│ output_layer_lstm (<span style=\"color: #0087ff; text-decoration-color: #0087ff\">Dense</span>)     │ (<span style=\"color: #00d7ff; text-decoration-color: #00d7ff\">None</span>, <span style=\"color: #00af00; text-decoration-color: #00af00\">20</span>, <span style=\"color: #00af00; text-decoration-color: #00af00\">11929</span>)         │       <span style=\"color: #00af00; text-decoration-color: #00af00\">3,065,753</span> │ decoder_lstm[<span style=\"color: #00af00; text-decoration-color: #00af00\">0</span>][<span style=\"color: #00af00; text-decoration-color: #00af00\">0</span>]         │\n",
       "└───────────────────────────────┴───────────────────────────┴─────────────────┴────────────────────────────┘\n",
       "</pre>\n"
      ],
      "text/plain": [
       "┏━━━━━━━━━━━━━━━━━━━━━━━━━━━━━━━┳━━━━━━━━━━━━━━━━━━━━━━━━━━━┳━━━━━━━━━━━━━━━━━┳━━━━━━━━━━━━━━━━━━━━━━━━━━━━┓\n",
       "┃\u001b[1m \u001b[0m\u001b[1mLayer (type)                 \u001b[0m\u001b[1m \u001b[0m┃\u001b[1m \u001b[0m\u001b[1mOutput Shape             \u001b[0m\u001b[1m \u001b[0m┃\u001b[1m \u001b[0m\u001b[1m        Param #\u001b[0m\u001b[1m \u001b[0m┃\u001b[1m \u001b[0m\u001b[1mConnected to              \u001b[0m\u001b[1m \u001b[0m┃\n",
       "┡━━━━━━━━━━━━━━━━━━━━━━━━━━━━━━━╇━━━━━━━━━━━━━━━━━━━━━━━━━━━╇━━━━━━━━━━━━━━━━━╇━━━━━━━━━━━━━━━━━━━━━━━━━━━━┩\n",
       "│ decoder_input_lstm            │ (\u001b[38;5;45mNone\u001b[0m, \u001b[38;5;34m20\u001b[0m)                │               \u001b[38;5;34m0\u001b[0m │ -                          │\n",
       "│ (\u001b[38;5;33mInputLayer\u001b[0m)                  │                           │                 │                            │\n",
       "├───────────────────────────────┼───────────────────────────┼─────────────────┼────────────────────────────┤\n",
       "│ context_input_lstm            │ (\u001b[38;5;45mNone\u001b[0m, \u001b[38;5;34m150\u001b[0m)               │               \u001b[38;5;34m0\u001b[0m │ -                          │\n",
       "│ (\u001b[38;5;33mInputLayer\u001b[0m)                  │                           │                 │                            │\n",
       "├───────────────────────────────┼───────────────────────────┼─────────────────┼────────────────────────────┤\n",
       "│ question_input_lstm           │ (\u001b[38;5;45mNone\u001b[0m, \u001b[38;5;34m30\u001b[0m)                │               \u001b[38;5;34m0\u001b[0m │ -                          │\n",
       "│ (\u001b[38;5;33mInputLayer\u001b[0m)                  │                           │                 │                            │\n",
       "├───────────────────────────────┼───────────────────────────┼─────────────────┼────────────────────────────┤\n",
       "│ embedding_1 (\u001b[38;5;33mEmbedding\u001b[0m)       │ (\u001b[38;5;45mNone\u001b[0m, \u001b[38;5;34m20\u001b[0m, \u001b[38;5;34m128\u001b[0m)           │       \u001b[38;5;34m1,526,912\u001b[0m │ context_input_lstm[\u001b[38;5;34m0\u001b[0m][\u001b[38;5;34m0\u001b[0m],  │\n",
       "│                               │                           │                 │ question_input_lstm[\u001b[38;5;34m0\u001b[0m][\u001b[38;5;34m0\u001b[0m], │\n",
       "│                               │                           │                 │ decoder_input_lstm[\u001b[38;5;34m0\u001b[0m][\u001b[38;5;34m0\u001b[0m]   │\n",
       "├───────────────────────────────┼───────────────────────────┼─────────────────┼────────────────────────────┤\n",
       "│ not_equal_4 (\u001b[38;5;33mNotEqual\u001b[0m)        │ (\u001b[38;5;45mNone\u001b[0m, \u001b[38;5;34m150\u001b[0m)               │               \u001b[38;5;34m0\u001b[0m │ context_input_lstm[\u001b[38;5;34m0\u001b[0m][\u001b[38;5;34m0\u001b[0m]   │\n",
       "├───────────────────────────────┼───────────────────────────┼─────────────────┼────────────────────────────┤\n",
       "│ not_equal_5 (\u001b[38;5;33mNotEqual\u001b[0m)        │ (\u001b[38;5;45mNone\u001b[0m, \u001b[38;5;34m30\u001b[0m)                │               \u001b[38;5;34m0\u001b[0m │ question_input_lstm[\u001b[38;5;34m0\u001b[0m][\u001b[38;5;34m0\u001b[0m]  │\n",
       "├───────────────────────────────┼───────────────────────────┼─────────────────┼────────────────────────────┤\n",
       "│ context_lstm (\u001b[38;5;33mLSTM\u001b[0m)           │ [(\u001b[38;5;45mNone\u001b[0m, \u001b[38;5;34m256\u001b[0m), (\u001b[38;5;45mNone\u001b[0m,      │         \u001b[38;5;34m394,240\u001b[0m │ embedding_1[\u001b[38;5;34m0\u001b[0m][\u001b[38;5;34m0\u001b[0m],         │\n",
       "│                               │ \u001b[38;5;34m256\u001b[0m), (\u001b[38;5;45mNone\u001b[0m, \u001b[38;5;34m256\u001b[0m)]        │                 │ not_equal_4[\u001b[38;5;34m0\u001b[0m][\u001b[38;5;34m0\u001b[0m]          │\n",
       "├───────────────────────────────┼───────────────────────────┼─────────────────┼────────────────────────────┤\n",
       "│ question_lstm (\u001b[38;5;33mLSTM\u001b[0m)          │ [(\u001b[38;5;45mNone\u001b[0m, \u001b[38;5;34m256\u001b[0m), (\u001b[38;5;45mNone\u001b[0m,      │         \u001b[38;5;34m394,240\u001b[0m │ embedding_1[\u001b[38;5;34m1\u001b[0m][\u001b[38;5;34m0\u001b[0m],         │\n",
       "│                               │ \u001b[38;5;34m256\u001b[0m), (\u001b[38;5;45mNone\u001b[0m, \u001b[38;5;34m256\u001b[0m)]        │                 │ not_equal_5[\u001b[38;5;34m0\u001b[0m][\u001b[38;5;34m0\u001b[0m]          │\n",
       "├───────────────────────────────┼───────────────────────────┼─────────────────┼────────────────────────────┤\n",
       "│ concatenate_1 (\u001b[38;5;33mConcatenate\u001b[0m)   │ (\u001b[38;5;45mNone\u001b[0m, \u001b[38;5;34m512\u001b[0m)               │               \u001b[38;5;34m0\u001b[0m │ context_lstm[\u001b[38;5;34m0\u001b[0m][\u001b[38;5;34m1\u001b[0m],        │\n",
       "│                               │                           │                 │ question_lstm[\u001b[38;5;34m0\u001b[0m][\u001b[38;5;34m1\u001b[0m]        │\n",
       "├───────────────────────────────┼───────────────────────────┼─────────────────┼────────────────────────────┤\n",
       "│ concatenate_2 (\u001b[38;5;33mConcatenate\u001b[0m)   │ (\u001b[38;5;45mNone\u001b[0m, \u001b[38;5;34m512\u001b[0m)               │               \u001b[38;5;34m0\u001b[0m │ context_lstm[\u001b[38;5;34m0\u001b[0m][\u001b[38;5;34m2\u001b[0m],        │\n",
       "│                               │                           │                 │ question_lstm[\u001b[38;5;34m0\u001b[0m][\u001b[38;5;34m2\u001b[0m]        │\n",
       "├───────────────────────────────┼───────────────────────────┼─────────────────┼────────────────────────────┤\n",
       "│ combined_state_h (\u001b[38;5;33mDense\u001b[0m)      │ (\u001b[38;5;45mNone\u001b[0m, \u001b[38;5;34m256\u001b[0m)               │         \u001b[38;5;34m131,328\u001b[0m │ concatenate_1[\u001b[38;5;34m0\u001b[0m][\u001b[38;5;34m0\u001b[0m]        │\n",
       "├───────────────────────────────┼───────────────────────────┼─────────────────┼────────────────────────────┤\n",
       "│ combined_state_c (\u001b[38;5;33mDense\u001b[0m)      │ (\u001b[38;5;45mNone\u001b[0m, \u001b[38;5;34m256\u001b[0m)               │         \u001b[38;5;34m131,328\u001b[0m │ concatenate_2[\u001b[38;5;34m0\u001b[0m][\u001b[38;5;34m0\u001b[0m]        │\n",
       "├───────────────────────────────┼───────────────────────────┼─────────────────┼────────────────────────────┤\n",
       "│ decoder_lstm (\u001b[38;5;33mLSTM\u001b[0m)           │ [(\u001b[38;5;45mNone\u001b[0m, \u001b[38;5;34m20\u001b[0m, \u001b[38;5;34m256\u001b[0m), (\u001b[38;5;45mNone\u001b[0m,  │         \u001b[38;5;34m394,240\u001b[0m │ embedding_1[\u001b[38;5;34m2\u001b[0m][\u001b[38;5;34m0\u001b[0m],         │\n",
       "│                               │ \u001b[38;5;34m256\u001b[0m), (\u001b[38;5;45mNone\u001b[0m, \u001b[38;5;34m256\u001b[0m)]        │                 │ combined_state_h[\u001b[38;5;34m0\u001b[0m][\u001b[38;5;34m0\u001b[0m],    │\n",
       "│                               │                           │                 │ combined_state_c[\u001b[38;5;34m0\u001b[0m][\u001b[38;5;34m0\u001b[0m]     │\n",
       "├───────────────────────────────┼───────────────────────────┼─────────────────┼────────────────────────────┤\n",
       "│ output_layer_lstm (\u001b[38;5;33mDense\u001b[0m)     │ (\u001b[38;5;45mNone\u001b[0m, \u001b[38;5;34m20\u001b[0m, \u001b[38;5;34m11929\u001b[0m)         │       \u001b[38;5;34m3,065,753\u001b[0m │ decoder_lstm[\u001b[38;5;34m0\u001b[0m][\u001b[38;5;34m0\u001b[0m]         │\n",
       "└───────────────────────────────┴───────────────────────────┴─────────────────┴────────────────────────────┘\n"
      ]
     },
     "metadata": {},
     "output_type": "display_data"
    },
    {
     "data": {
      "text/html": [
       "<pre style=\"white-space:pre;overflow-x:auto;line-height:normal;font-family:Menlo,'DejaVu Sans Mono',consolas,'Courier New',monospace\"><span style=\"font-weight: bold\"> Total params: </span><span style=\"color: #00af00; text-decoration-color: #00af00\">6,038,041</span> (23.03 MB)\n",
       "</pre>\n"
      ],
      "text/plain": [
       "\u001b[1m Total params: \u001b[0m\u001b[38;5;34m6,038,041\u001b[0m (23.03 MB)\n"
      ]
     },
     "metadata": {},
     "output_type": "display_data"
    },
    {
     "data": {
      "text/html": [
       "<pre style=\"white-space:pre;overflow-x:auto;line-height:normal;font-family:Menlo,'DejaVu Sans Mono',consolas,'Courier New',monospace\"><span style=\"font-weight: bold\"> Trainable params: </span><span style=\"color: #00af00; text-decoration-color: #00af00\">6,038,041</span> (23.03 MB)\n",
       "</pre>\n"
      ],
      "text/plain": [
       "\u001b[1m Trainable params: \u001b[0m\u001b[38;5;34m6,038,041\u001b[0m (23.03 MB)\n"
      ]
     },
     "metadata": {},
     "output_type": "display_data"
    },
    {
     "data": {
      "text/html": [
       "<pre style=\"white-space:pre;overflow-x:auto;line-height:normal;font-family:Menlo,'DejaVu Sans Mono',consolas,'Courier New',monospace\"><span style=\"font-weight: bold\"> Non-trainable params: </span><span style=\"color: #00af00; text-decoration-color: #00af00\">0</span> (0.00 B)\n",
       "</pre>\n"
      ],
      "text/plain": [
       "\u001b[1m Non-trainable params: \u001b[0m\u001b[38;5;34m0\u001b[0m (0.00 B)\n"
      ]
     },
     "metadata": {},
     "output_type": "display_data"
    }
   ],
   "source": [
    "# Hyperparameters (bisa disamakan dengan sebelumnya)\n",
    "embedding_dim = 128\n",
    "rnn_units = 256 # Kita akan menggunakan LSTM units\n",
    "\n",
    "# === ENCODER (LSTM) ===\n",
    "# Input untuk context dan question\n",
    "context_input = Input(shape=(max_context_len,), name='context_input_lstm')\n",
    "question_input = Input(shape=(max_question_len,), name='question_input_lstm')\n",
    "\n",
    "# Shared embedding layer (bisa menggunakan yang sudah ada atau membuat baru)\n",
    "# Untuk konsistensi, kita definisikan ulang di sini\n",
    "embedding_layer = Embedding(vocab_size, embedding_dim, mask_zero=True)\n",
    "\n",
    "# Encode context\n",
    "context_embedded = embedding_layer(context_input)\n",
    "# Ganti SimpleRNN dengan LSTM\n",
    "context_lstm = LSTM(rnn_units, return_state=True, name='context_lstm')\n",
    "# LSTM mengembalikan 3 state: output, hidden state, cell state\n",
    "_, context_state_h, context_state_c = context_lstm(context_embedded)\n",
    "context_states = [context_state_h, context_state_c]\n",
    "\n",
    "# Encode question\n",
    "question_embedded = embedding_layer(question_input)\n",
    "# Ganti SimpleRNN dengan LSTM\n",
    "question_lstm = LSTM(rnn_units, return_state=True, name='question_lstm')\n",
    "_, question_state_h, question_state_c = question_lstm(question_embedded)\n",
    "question_states = [question_state_h, question_state_c]\n",
    "\n",
    "# Gabungkan state dari context dan question\n",
    "# Kita akan menggabungkan hidden state dan cell state secara terpisah\n",
    "encoder_state_h = Concatenate()([context_state_h, question_state_h])\n",
    "encoder_state_c = Concatenate()([context_state_c, question_state_c])\n",
    "\n",
    "# Reduksi dimensi gabungan state agar sesuai dengan decoder units\n",
    "combined_state_h = Dense(rnn_units, activation='tanh', name='combined_state_h')(encoder_state_h)\n",
    "combined_state_c = Dense(rnn_units, activation='tanh', name='combined_state_c')(encoder_state_c)\n",
    "encoder_states = [combined_state_h, combined_state_c]\n",
    "\n",
    "# === DECODER (LSTM) ===\n",
    "# Input untuk answer (decoder)\n",
    "decoder_input = Input(shape=(max_answer_len,), name='decoder_input_lstm')\n",
    "decoder_embedded = embedding_layer(decoder_input)\n",
    "\n",
    "# Decoder LSTM\n",
    "# Inisialisasi state decoder dengan state dari encoder\n",
    "decoder_lstm = LSTM(rnn_units, return_sequences=True, return_state=True, name='decoder_lstm')\n",
    "decoder_output, _, _ = decoder_lstm(decoder_embedded, initial_state=encoder_states)\n",
    "\n",
    "# Output layer (sama seperti sebelumnya)\n",
    "decoder_dense = Dense(vocab_size, activation='softmax', name='output_layer_lstm')\n",
    "decoder_outputs = decoder_dense(decoder_output)\n",
    "\n",
    "# Model LSTM lengkap\n",
    "model_lstm = Model(\n",
    "    inputs=[context_input, question_input, decoder_input],\n",
    "    outputs=decoder_outputs\n",
    ")\n",
    "\n",
    "print(\"✅ Model LSTM berhasil dibuat!\")\n",
    "model_lstm.summary()"
   ]
  },
  {
   "cell_type": "code",
   "execution_count": 28,
   "id": "d30a5a5a-4699-478a-8c87-f2102179401c",
   "metadata": {},
   "outputs": [
    {
     "name": "stdout",
     "output_type": "stream",
     "text": [
      "✅ Model LSTM berhasil di-compile\n"
     ]
    }
   ],
   "source": [
    "# Compile model LSTM\n",
    "model_lstm.compile(\n",
    "    optimizer='adam',\n",
    "    loss='sparse_categorical_crossentropy',\n",
    "    metrics=['accuracy']\n",
    ")\n",
    "\n",
    "print(\"✅ Model LSTM berhasil di-compile\")\n",
    "\n",
    "# Callback early stopping (bisa digunakan kembali)\n",
    "early_stop = tf.keras.callbacks.EarlyStopping(\n",
    "    monitor='val_loss',\n",
    "    patience=3,\n",
    "    restore_best_weights=True\n",
    ")"
   ]
  },
  {
   "cell_type": "markdown",
   "id": "969af03e-1a0a-43fd-a5b1-1961eb9998eb",
   "metadata": {},
   "source": [
    "## Training model LSTM dengan 50 epoch juga dengan earlystop"
   ]
  },
  {
   "cell_type": "code",
   "execution_count": 29,
   "id": "7d937a19-2b55-44f1-93a1-58460e960a9c",
   "metadata": {},
   "outputs": [
    {
     "name": "stdout",
     "output_type": "stream",
     "text": [
      "\n",
      "🚀 Memulai training model LSTM...\n",
      "Epoch 1/50\n",
      "\u001b[1m125/125\u001b[0m \u001b[32m━━━━━━━━━━━━━━━━━━━━\u001b[0m\u001b[37m\u001b[0m \u001b[1m44s\u001b[0m 328ms/step - accuracy: 0.0033 - loss: 8.4765 - val_accuracy: 0.0037 - val_loss: 7.8038\n",
      "Epoch 2/50\n",
      "\u001b[1m125/125\u001b[0m \u001b[32m━━━━━━━━━━━━━━━━━━━━\u001b[0m\u001b[37m\u001b[0m \u001b[1m40s\u001b[0m 321ms/step - accuracy: 0.0040 - loss: 7.0392 - val_accuracy: 0.0049 - val_loss: 7.4659\n",
      "Epoch 3/50\n",
      "\u001b[1m125/125\u001b[0m \u001b[32m━━━━━━━━━━━━━━━━━━━━\u001b[0m\u001b[37m\u001b[0m \u001b[1m40s\u001b[0m 321ms/step - accuracy: 0.0061 - loss: 6.5085 - val_accuracy: 0.0086 - val_loss: 7.3772\n",
      "Epoch 4/50\n",
      "\u001b[1m125/125\u001b[0m \u001b[32m━━━━━━━━━━━━━━━━━━━━\u001b[0m\u001b[37m\u001b[0m \u001b[1m40s\u001b[0m 320ms/step - accuracy: 0.0088 - loss: 6.0880 - val_accuracy: 0.0107 - val_loss: 7.4138\n",
      "Epoch 5/50\n",
      "\u001b[1m125/125\u001b[0m \u001b[32m━━━━━━━━━━━━━━━━━━━━\u001b[0m\u001b[37m\u001b[0m \u001b[1m41s\u001b[0m 331ms/step - accuracy: 0.0112 - loss: 5.6974 - val_accuracy: 0.0132 - val_loss: 7.3239\n",
      "Epoch 6/50\n",
      "\u001b[1m125/125\u001b[0m \u001b[32m━━━━━━━━━━━━━━━━━━━━\u001b[0m\u001b[37m\u001b[0m \u001b[1m42s\u001b[0m 334ms/step - accuracy: 0.0148 - loss: 5.3245 - val_accuracy: 0.0164 - val_loss: 7.2241\n",
      "Epoch 7/50\n",
      "\u001b[1m125/125\u001b[0m \u001b[32m━━━━━━━━━━━━━━━━━━━━\u001b[0m\u001b[37m\u001b[0m \u001b[1m42s\u001b[0m 332ms/step - accuracy: 0.0195 - loss: 4.9352 - val_accuracy: 0.0183 - val_loss: 7.1486\n",
      "Epoch 8/50\n",
      "\u001b[1m125/125\u001b[0m \u001b[32m━━━━━━━━━━━━━━━━━━━━\u001b[0m\u001b[37m\u001b[0m \u001b[1m40s\u001b[0m 320ms/step - accuracy: 0.0254 - loss: 4.5469 - val_accuracy: 0.0234 - val_loss: 6.9779\n",
      "Epoch 9/50\n",
      "\u001b[1m125/125\u001b[0m \u001b[32m━━━━━━━━━━━━━━━━━━━━\u001b[0m\u001b[37m\u001b[0m \u001b[1m40s\u001b[0m 320ms/step - accuracy: 0.0314 - loss: 4.2612 - val_accuracy: 0.0268 - val_loss: 6.8688\n",
      "Epoch 10/50\n",
      "\u001b[1m125/125\u001b[0m \u001b[32m━━━━━━━━━━━━━━━━━━━━\u001b[0m\u001b[37m\u001b[0m \u001b[1m40s\u001b[0m 321ms/step - accuracy: 0.0408 - loss: 3.7935 - val_accuracy: 0.0334 - val_loss: 6.6593\n",
      "Epoch 11/50\n",
      "\u001b[1m125/125\u001b[0m \u001b[32m━━━━━━━━━━━━━━━━━━━━\u001b[0m\u001b[37m\u001b[0m \u001b[1m40s\u001b[0m 322ms/step - accuracy: 0.0514 - loss: 3.3662 - val_accuracy: 0.0394 - val_loss: 6.4323\n",
      "Epoch 12/50\n",
      "\u001b[1m125/125\u001b[0m \u001b[32m━━━━━━━━━━━━━━━━━━━━\u001b[0m\u001b[37m\u001b[0m \u001b[1m40s\u001b[0m 322ms/step - accuracy: 0.0624 - loss: 2.9619 - val_accuracy: 0.0445 - val_loss: 6.1889\n",
      "Epoch 13/50\n",
      "\u001b[1m125/125\u001b[0m \u001b[32m━━━━━━━━━━━━━━━━━━━━\u001b[0m\u001b[37m\u001b[0m \u001b[1m40s\u001b[0m 323ms/step - accuracy: 0.0727 - loss: 2.5654 - val_accuracy: 0.0495 - val_loss: 6.0678\n",
      "Epoch 14/50\n",
      "\u001b[1m125/125\u001b[0m \u001b[32m━━━━━━━━━━━━━━━━━━━━\u001b[0m\u001b[37m\u001b[0m \u001b[1m40s\u001b[0m 321ms/step - accuracy: 0.0823 - loss: 2.2053 - val_accuracy: 0.0539 - val_loss: 5.8522\n",
      "Epoch 15/50\n",
      "\u001b[1m125/125\u001b[0m \u001b[32m━━━━━━━━━━━━━━━━━━━━\u001b[0m\u001b[37m\u001b[0m \u001b[1m40s\u001b[0m 321ms/step - accuracy: 0.0898 - loss: 1.8683 - val_accuracy: 0.0583 - val_loss: 5.7161\n",
      "Epoch 16/50\n",
      "\u001b[1m125/125\u001b[0m \u001b[32m━━━━━━━━━━━━━━━━━━━━\u001b[0m\u001b[37m\u001b[0m \u001b[1m40s\u001b[0m 321ms/step - accuracy: 0.0966 - loss: 1.5815 - val_accuracy: 0.0622 - val_loss: 5.6067\n",
      "Epoch 17/50\n",
      "\u001b[1m125/125\u001b[0m \u001b[32m━━━━━━━━━━━━━━━━━━━━\u001b[0m\u001b[37m\u001b[0m \u001b[1m41s\u001b[0m 326ms/step - accuracy: 0.1024 - loss: 1.3140 - val_accuracy: 0.0641 - val_loss: 5.5415\n",
      "Epoch 18/50\n",
      "\u001b[1m125/125\u001b[0m \u001b[32m━━━━━━━━━━━━━━━━━━━━\u001b[0m\u001b[37m\u001b[0m \u001b[1m41s\u001b[0m 325ms/step - accuracy: 0.1072 - loss: 1.0977 - val_accuracy: 0.0662 - val_loss: 5.4565\n",
      "Epoch 19/50\n",
      "\u001b[1m125/125\u001b[0m \u001b[32m━━━━━━━━━━━━━━━━━━━━\u001b[0m\u001b[37m\u001b[0m \u001b[1m41s\u001b[0m 326ms/step - accuracy: 0.1106 - loss: 0.9038 - val_accuracy: 0.0681 - val_loss: 5.4033\n",
      "Epoch 20/50\n",
      "\u001b[1m125/125\u001b[0m \u001b[32m━━━━━━━━━━━━━━━━━━━━\u001b[0m\u001b[37m\u001b[0m \u001b[1m40s\u001b[0m 322ms/step - accuracy: 0.1143 - loss: 0.7412 - val_accuracy: 0.0709 - val_loss: 5.3504\n",
      "Epoch 21/50\n",
      "\u001b[1m125/125\u001b[0m \u001b[32m━━━━━━━━━━━━━━━━━━━━\u001b[0m\u001b[37m\u001b[0m \u001b[1m40s\u001b[0m 323ms/step - accuracy: 0.1172 - loss: 0.6001 - val_accuracy: 0.0721 - val_loss: 5.2800\n",
      "Epoch 22/50\n",
      "\u001b[1m125/125\u001b[0m \u001b[32m━━━━━━━━━━━━━━━━━━━━\u001b[0m\u001b[37m\u001b[0m \u001b[1m40s\u001b[0m 323ms/step - accuracy: 0.1200 - loss: 0.4758 - val_accuracy: 0.0727 - val_loss: 5.2525\n",
      "Epoch 23/50\n",
      "\u001b[1m125/125\u001b[0m \u001b[32m━━━━━━━━━━━━━━━━━━━━\u001b[0m\u001b[37m\u001b[0m \u001b[1m40s\u001b[0m 321ms/step - accuracy: 0.1223 - loss: 0.3736 - val_accuracy: 0.0736 - val_loss: 5.1875\n",
      "Epoch 24/50\n",
      "\u001b[1m125/125\u001b[0m \u001b[32m━━━━━━━━━━━━━━━━━━━━\u001b[0m\u001b[37m\u001b[0m \u001b[1m40s\u001b[0m 323ms/step - accuracy: 0.1238 - loss: 0.2925 - val_accuracy: 0.0740 - val_loss: 5.1966\n",
      "Epoch 25/50\n",
      "\u001b[1m125/125\u001b[0m \u001b[32m━━━━━━━━━━━━━━━━━━━━\u001b[0m\u001b[37m\u001b[0m \u001b[1m41s\u001b[0m 324ms/step - accuracy: 0.1247 - loss: 0.2271 - val_accuracy: 0.0740 - val_loss: 5.1885\n",
      "Epoch 26/50\n",
      "\u001b[1m125/125\u001b[0m \u001b[32m━━━━━━━━━━━━━━━━━━━━\u001b[0m\u001b[37m\u001b[0m \u001b[1m40s\u001b[0m 323ms/step - accuracy: 0.1249 - loss: 0.1767 - val_accuracy: 0.0749 - val_loss: 5.1519\n",
      "Epoch 27/50\n",
      "\u001b[1m125/125\u001b[0m \u001b[32m━━━━━━━━━━━━━━━━━━━━\u001b[0m\u001b[37m\u001b[0m \u001b[1m40s\u001b[0m 323ms/step - accuracy: 0.1251 - loss: 0.1359 - val_accuracy: 0.0755 - val_loss: 5.1303\n",
      "Epoch 28/50\n",
      "\u001b[1m125/125\u001b[0m \u001b[32m━━━━━━━━━━━━━━━━━━━━\u001b[0m\u001b[37m\u001b[0m \u001b[1m40s\u001b[0m 321ms/step - accuracy: 0.1252 - loss: 0.1061 - val_accuracy: 0.0757 - val_loss: 5.1427\n",
      "Epoch 29/50\n",
      "\u001b[1m125/125\u001b[0m \u001b[32m━━━━━━━━━━━━━━━━━━━━\u001b[0m\u001b[37m\u001b[0m \u001b[1m40s\u001b[0m 323ms/step - accuracy: 0.1252 - loss: 0.0845 - val_accuracy: 0.0758 - val_loss: 5.1276\n",
      "Epoch 30/50\n",
      "\u001b[1m125/125\u001b[0m \u001b[32m━━━━━━━━━━━━━━━━━━━━\u001b[0m\u001b[37m\u001b[0m \u001b[1m40s\u001b[0m 322ms/step - accuracy: 0.1252 - loss: 0.0683 - val_accuracy: 0.0762 - val_loss: 5.1158\n",
      "Epoch 31/50\n",
      "\u001b[1m125/125\u001b[0m \u001b[32m━━━━━━━━━━━━━━━━━━━━\u001b[0m\u001b[37m\u001b[0m \u001b[1m40s\u001b[0m 322ms/step - accuracy: 0.1252 - loss: 0.0570 - val_accuracy: 0.0761 - val_loss: 5.1140\n",
      "Epoch 32/50\n",
      "\u001b[1m125/125\u001b[0m \u001b[32m━━━━━━━━━━━━━━━━━━━━\u001b[0m\u001b[37m\u001b[0m \u001b[1m41s\u001b[0m 329ms/step - accuracy: 0.1252 - loss: 0.0480 - val_accuracy: 0.0766 - val_loss: 5.1132\n",
      "Epoch 33/50\n",
      "\u001b[1m125/125\u001b[0m \u001b[32m━━━━━━━━━━━━━━━━━━━━\u001b[0m\u001b[37m\u001b[0m \u001b[1m41s\u001b[0m 326ms/step - accuracy: 0.1252 - loss: 0.0414 - val_accuracy: 0.0765 - val_loss: 5.1108\n",
      "Epoch 34/50\n",
      "\u001b[1m125/125\u001b[0m \u001b[32m━━━━━━━━━━━━━━━━━━━━\u001b[0m\u001b[37m\u001b[0m \u001b[1m40s\u001b[0m 323ms/step - accuracy: 0.1252 - loss: 0.0361 - val_accuracy: 0.0768 - val_loss: 5.1029\n",
      "Epoch 35/50\n",
      "\u001b[1m125/125\u001b[0m \u001b[32m━━━━━━━━━━━━━━━━━━━━\u001b[0m\u001b[37m\u001b[0m \u001b[1m40s\u001b[0m 322ms/step - accuracy: 0.1252 - loss: 0.0316 - val_accuracy: 0.0771 - val_loss: 5.0938\n",
      "Epoch 36/50\n",
      "\u001b[1m125/125\u001b[0m \u001b[32m━━━━━━━━━━━━━━━━━━━━\u001b[0m\u001b[37m\u001b[0m \u001b[1m41s\u001b[0m 327ms/step - accuracy: 0.1252 - loss: 0.0279 - val_accuracy: 0.0772 - val_loss: 5.0941\n",
      "Epoch 37/50\n",
      "\u001b[1m125/125\u001b[0m \u001b[32m━━━━━━━━━━━━━━━━━━━━\u001b[0m\u001b[37m\u001b[0m \u001b[1m41s\u001b[0m 325ms/step - accuracy: 0.1252 - loss: 0.0248 - val_accuracy: 0.0772 - val_loss: 5.0830\n",
      "Epoch 38/50\n",
      "\u001b[1m125/125\u001b[0m \u001b[32m━━━━━━━━━━━━━━━━━━━━\u001b[0m\u001b[37m\u001b[0m \u001b[1m41s\u001b[0m 324ms/step - accuracy: 0.1252 - loss: 0.0223 - val_accuracy: 0.0772 - val_loss: 5.0942\n",
      "Epoch 39/50\n",
      "\u001b[1m125/125\u001b[0m \u001b[32m━━━━━━━━━━━━━━━━━━━━\u001b[0m\u001b[37m\u001b[0m \u001b[1m40s\u001b[0m 323ms/step - accuracy: 0.1252 - loss: 0.0201 - val_accuracy: 0.0773 - val_loss: 5.0874\n",
      "Epoch 40/50\n",
      "\u001b[1m125/125\u001b[0m \u001b[32m━━━━━━━━━━━━━━━━━━━━\u001b[0m\u001b[37m\u001b[0m \u001b[1m41s\u001b[0m 325ms/step - accuracy: 0.1252 - loss: 0.0181 - val_accuracy: 0.0773 - val_loss: 5.0845\n",
      "✅ Training LSTM selesai!\n"
     ]
    }
   ],
   "source": [
    "# Training model LSTM\n",
    "print(\"\\n🚀 Memulai training model LSTM...\")\n",
    "history_lstm = model_lstm.fit(\n",
    "    [context_train, question_train, answer_train],\n",
    "    target_train,\n",
    "    batch_size=32,\n",
    "    epochs=50, # Anda bisa sesuaikan jumlah epoch\n",
    "    validation_data=(\n",
    "        [context_val, question_val, answer_val],\n",
    "        target_val\n",
    "    ),\n",
    "    callbacks=[early_stop],\n",
    "    verbose=1\n",
    ")\n",
    "\n",
    "print(\"✅ Training LSTM selesai!\")"
   ]
  },
  {
   "cell_type": "code",
   "execution_count": 31,
   "id": "cfb90b2c-6a3f-4c06-b506-3032ecd63d1c",
   "metadata": {},
   "outputs": [
    {
     "data": {
      "image/png": "[encoded data removed]",
      "text/plain": [
       "<Figure size 1200x400 with 2 Axes>"
      ]
     },
     "metadata": {},
     "output_type": "display_data"
    }
   ],
   "source": [
    "plt.figure(figsize=(12, 4))\n",
    "\n",
    "# Plot loss\n",
    "plt.subplot(1, 2, 1)\n",
    "plt.plot(history_lstm.history['loss'], label='Training Loss')\n",
    "plt.plot(history_lstm.history['val_loss'], label='Validation Loss')\n",
    "plt.title('Model Loss')\n",
    "plt.xlabel('Epoch')\n",
    "plt.ylabel('Loss')\n",
    "plt.legend()\n",
    "plt.grid(True)\n",
    "\n",
    "# Plot accuracy\n",
    "plt.subplot(1, 2, 2)\n",
    "plt.plot(history_lstm.history['accuracy'], label='Training Accuracy')\n",
    "plt.plot(history_lstm.history['val_accuracy'], label='Validation Accuracy')\n",
    "plt.title('Model Accuracy')\n",
    "plt.xlabel('Epoch')\n",
    "plt.ylabel('Accuracy')\n",
    "plt.legend()\n",
    "plt.grid(True)\n",
    "\n",
    "plt.tight_layout()\n",
    "plt.show()"
   ]
  },
  {
   "cell_type": "markdown",
   "id": "70a970d2-bcef-476e-ba05-d0e2a2553d03",
   "metadata": {},
   "source": [
    "## Hasil Training\n",
    "Model dilatih selama 50 epoch. Pelatihan berhenti pada epoch ke-40 karena Early Stopping.\n",
    "Hasil: Metrik accuracy dan loss pada LSTM menunjukkan progres belajar yang jelas.\n",
    "* Training loss turun drastis, sementara validation_loss berhenti turun setelah sekitar epoch ke-30.\n",
    "\n",
    "Analisis: Model berhasil belajar, namun dengan cepat mengalami overfitting. Ini terjadi karena model mulai menghafal 4.000 data training yang terbatas alih-alih belajar pola yang dapat digeneralisasi."
   ]
  },
  {
   "cell_type": "code",
   "execution_count": 32,
   "id": "38f7943a-2538-4392-9b34-e22fd795409a",
   "metadata": {},
   "outputs": [
    {
     "name": "stdout",
     "output_type": "stream",
     "text": [
      "✅ Model inference LSTM berhasil dibuat!\n"
     ]
    }
   ],
   "source": [
    "# === Encoder Inference Model ===\n",
    "# Model ini akan mengambil konteks dan pertanyaan, lalu menghasilkan state LSTM.\n",
    "encoder_model_lstm = Model(\n",
    "    inputs=[context_input, question_input],\n",
    "    outputs=encoder_states  # Outputnya adalah [hidden_state, cell_state]\n",
    ")\n",
    "\n",
    "# === Decoder Inference Model ===\n",
    "# Kita perlu mendefinisikan input state untuk decoder secara terpisah\n",
    "decoder_state_input_h = Input(shape=(rnn_units,), name='decoder_state_input_h')\n",
    "decoder_state_input_c = Input(shape=(rnn_units,), name='decoder_state_input_c')\n",
    "decoder_states_inputs = [decoder_state_input_h, decoder_state_input_c]\n",
    "\n",
    "# Input untuk token jawaban (satu per satu)\n",
    "decoder_input_single_step = Input(shape=(1,), name='decoder_input_single_step')\n",
    "decoder_embedded_single_step = embedding_layer(decoder_input_single_step)\n",
    "\n",
    "# Panggil layer LSTM yang sudah dilatih dengan state input baru\n",
    "# Kita akan mendapatkan output dan state baru\n",
    "decoder_output_inf, state_h_inf, state_c_inf = decoder_lstm(\n",
    "    decoder_embedded_single_step, initial_state=decoder_states_inputs\n",
    ")\n",
    "decoder_states_inf = [state_h_inf, state_c_inf]\n",
    "\n",
    "# Dense layer untuk prediksi kata berikutnya\n",
    "decoder_output_inf = decoder_dense(decoder_output_inf)\n",
    "\n",
    "# Model decoder final untuk inference\n",
    "decoder_model_lstm = Model(\n",
    "    inputs=[decoder_input_single_step] + decoder_states_inputs,\n",
    "    outputs=[decoder_output_inf] + decoder_states_inf\n",
    ")\n",
    "\n",
    "print(\"✅ Model inference LSTM berhasil dibuat!\")"
   ]
  },
  {
   "cell_type": "code",
   "execution_count": 33,
   "id": "d141d940-e121-441f-b458-29ef48411cd6",
   "metadata": {},
   "outputs": [
    {
     "name": "stdout",
     "output_type": "stream",
     "text": [
      "✅ Fungsi prediksi LSTM siap digunakan!\n"
     ]
    }
   ],
   "source": [
    "def predict_answer_lstm(context, question, max_length=20):\n",
    "    \"\"\"\n",
    "    Prediksi jawaban menggunakan model inference LSTM.\n",
    "    \"\"\"\n",
    "    # Tokenize dan padding input\n",
    "    context_seq = tokenizer.texts_to_sequences([context])\n",
    "    question_seq = tokenizer.texts_to_sequences([question])\n",
    "    context_pad = pad_sequences(context_seq, maxlen=max_context_len, padding='post')\n",
    "    question_pad = pad_sequences(question_seq, maxlen=max_question_len, padding='post')\n",
    "\n",
    "    # 1. Dapatkan initial state dari encoder\n",
    "    states_value = encoder_model_lstm.predict([context_pad, question_pad], verbose=0)\n",
    "\n",
    "    # 2. Siapkan input pertama untuk decoder (token kosong, biasanya index 0)\n",
    "    target_seq = np.zeros((1, 1))\n",
    "\n",
    "    # 3. Proses decoding langkah-demi-langkah\n",
    "    decoded_sentence = []\n",
    "    for _ in range(max_length):\n",
    "        # Prediksi token berikutnya dan dapatkan state baru\n",
    "        output_tokens, h, c = decoder_model_lstm.predict(\n",
    "            [target_seq] + states_value, verbose=0\n",
    "        )\n",
    "\n",
    "        # Ambil token dengan probabilitas tertinggi\n",
    "        sampled_token_index = np.argmax(output_tokens[0, -1, :])\n",
    "\n",
    "        # Hentikan jika token adalah padding (index 0)\n",
    "        if sampled_token_index == 0:\n",
    "            break\n",
    "\n",
    "        # Ubah index menjadi kata\n",
    "        sampled_word = tokenizer.index_word.get(sampled_token_index, '')\n",
    "        decoded_sentence.append(sampled_word)\n",
    "\n",
    "        # Update input untuk langkah berikutnya\n",
    "        target_seq = np.array([[sampled_token_index]])\n",
    "        states_value = [h, c]\n",
    "\n",
    "    return ' '.join(decoded_sentence)\n",
    "\n",
    "print(\"✅ Fungsi prediksi LSTM siap digunakan!\")"
   ]
  },
  {
   "cell_type": "code",
   "execution_count": 34,
   "id": "086f7fab-20a0-4f45-9074-ee627da4eba2",
   "metadata": {},
   "outputs": [
    {
     "name": "stdout",
     "output_type": "stream",
     "text": [
      "============================================================\n",
      "📝 TEST PREDIKSI (MODEL LSTM)\n",
      "============================================================\n",
      "\n",
      "Konteks:\n",
      "Beyoncé Giselle Knowles-Carter (/ biːˈjɒnseɪ / bee-YON-say) (lahir 4 September 1981) adalah seorang penyanyi, penulis lagu, produser rekaman dan aktris Amerika. Dilahirkan dan dibesarkan di Houston, T...\\n\n",
      "Pertanyaan: Kapan Beyonce mulai populer?\n",
      "\n",
      "Jawaban Asli: pada akhir 1990-an\n",
      "Jawaban Prediksi (LSTM): 225 campbell jenis jenis sesuatu sesuatu sesuatu sesuatu sesuatu milik milik milik milik milik milik milik milik milik milik milik\n",
      "============================================================\n"
     ]
    }
   ],
   "source": [
    "# Pilih data uji (misalnya, data pertama dari dataset)\n",
    "test_idx = 0\n",
    "test_context = contexts[test_idx]\n",
    "test_question = questions[test_idx]\n",
    "true_answer = answers[test_idx]\n",
    "\n",
    "print(\"=\" * 60)\n",
    "print(\"📝 TEST PREDIKSI (MODEL LSTM)\")\n",
    "print(\"=\" * 60)\n",
    "print(f\"\\nKonteks:\\n{test_context[:200]}...\\\\n\")\n",
    "print(f\"Pertanyaan: {test_question}\")\n",
    "print(f\"\\nJawaban Asli: {true_answer}\")\n",
    "\n",
    "# Panggil fungsi prediksi LSTM\n",
    "predicted_answer_lstm = predict_answer_lstm(test_context, test_question)\n",
    "print(f\"Jawaban Prediksi (LSTM): {predicted_answer_lstm}\")\n",
    "print(\"=\" * 60)"
   ]
  },
  {
   "cell_type": "markdown",
   "id": "372f3e63-6e82-4242-8f52-033e8543a731",
   "metadata": {},
   "source": [
    "## Perbandingan Model: SimpleRNN vs. LSTM\n",
    "\n",
    "Tabel berikut merangkum perbandingan langsung antara kedua model berdasarkan hasil eksperimen pada 5.000 sampel data.\n",
    "\n",
    "| Fitur | SimpleRNN | LSTM |\n",
    "|---|---|---|\n",
    "| **Unit Rekuren** | `SimpleRNN` | `LSTM` (dengan *memory gates*) |\n",
    "| **Jumlah Parameter** | ~5,0 juta | ~6,0 juta (lebih kompleks) |\n",
    "| **Waktu Training** | Lebih cepat (~30-40 detik/epoch) | Lebih lambat (~40-50 detik/epoch) |\n",
    "| **Hasil Training** | Stagnan, akurasi tidak meningkat secara signifikan. | Menunjukkan progres belajar yang jelas (loss turun, akurasi naik). |\n",
    "| **Permasalahan Utama**| Gagal belajar (kemungkinan **vanishing gradient**). | **Overfitting** setelah ~25 epoch karena data terlalu sedikit. |\n",
    "| **Potensi** | Rendah untuk tugas kompleks ini. | Tinggi, namun membutuhkan lebih banyak data untuk generalisasi. |\n",
    "\n",
    "## Analisis dan Kesimpulan\n",
    "Eksperimen ini berhasil mengimplementasikan arsitektur Encoder-Decoder untuk tugas QA. Namun, hasilnya menyoroti sebuah prinsip fundamental dalam deep learning: kualitas dan kuantitas data adalah kunci.\n",
    "\n",
    "SimpleRNN terbukti tidak cukup kuat untuk tugas ini.\n",
    "\n",
    "LSTM menunjukkan potensi belajar, tetapi dengan dataset yang sangat kecil (4.000 sampel), ia lebih cepat menghafal daripada belajar pola yang sesungguhnya, yang berujung pada overfitting."
   ]
  }
 ],
 "metadata": {
  "kernelspec": {
   "display_name": "Python 3 (ipykernel)",
   "language": "python",
   "name": "python3"
  },
  "language_info": {
   "codemirror_mode": {
    "name": "ipython",
    "version": 3
   },
   "file_extension": ".py",
   "mimetype": "text/x-python",
   "name": "python",
   "nbconvert_exporter": "python",
   "pygments_lexer": "ipython3",
   "version": "3.12.7"
  }
 },
 "nbformat": 4,
 "nbformat_minor": 5
}
